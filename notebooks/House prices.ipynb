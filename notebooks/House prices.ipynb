{
 "cells": [
  {
   "cell_type": "markdown",
   "id": "focal-thermal",
   "metadata": {},
   "source": [
    "- [House Prices - Advanced Regression Techniques - Kaggle page](https://www.kaggle.com/c/house-prices-advanced-regression-techniques)"
   ]
  },
  {
   "cell_type": "code",
   "execution_count": null,
   "id": "genetic-script",
   "metadata": {},
   "outputs": [],
   "source": [
    "from pathlib import Path\n",
    "\n",
    "import numpy as np\n",
    "import pandas as pd\n",
    "import matplotlib.pyplot as plt\n",
    "import seaborn as sns\n",
    "\n",
    "pd.set_option('display.max_columns', None)\n",
    "\n",
    "DATA_DIR = Path('../data/house-prices')\n",
    "filepath = DATA_DIR / 'train.csv'\n",
    "\n",
    "target_column = 'SalePrice'"
   ]
  },
  {
   "cell_type": "markdown",
   "id": "valuable-alert",
   "metadata": {},
   "source": [
    "# Dataset"
   ]
  },
  {
   "cell_type": "markdown",
   "id": "hydraulic-board",
   "metadata": {},
   "source": [
    "- Download dataset from kaggle and store it in the data folder"
   ]
  },
  {
   "cell_type": "code",
   "execution_count": null,
   "id": "informal-decrease",
   "metadata": {},
   "outputs": [],
   "source": [
    "!kaggle competitions download -c house-prices-advanced-regression-techniques\n",
    "!mkdir ../data/house-prices\n",
    "!unzip -o house-prices-advanced-regression-techniques.zip -d ../data/house-prices\n",
    "!rm house-prices-advanced-regression-techniques.zip"
   ]
  },
  {
   "cell_type": "markdown",
   "id": "annoying-princeton",
   "metadata": {},
   "source": [
    "- Read dataset csv file"
   ]
  },
  {
   "cell_type": "code",
   "execution_count": null,
   "id": "understanding-queen",
   "metadata": {
    "scrolled": false
   },
   "outputs": [],
   "source": [
    "df_master = pd.read_csv(filepath, index_col='Id')\n",
    "df_master.head()"
   ]
  },
  {
   "cell_type": "markdown",
   "id": "magnetic-estate",
   "metadata": {},
   "source": [
    "- Read dataset description"
   ]
  },
  {
   "cell_type": "code",
   "execution_count": null,
   "id": "employed-recommendation",
   "metadata": {
    "scrolled": true
   },
   "outputs": [],
   "source": [
    "with open(DATA_DIR / 'data_description.txt') as f:\n",
    "    desc = f.read()\n",
    "    print(desc)"
   ]
  },
  {
   "cell_type": "markdown",
   "id": "rotary-saturn",
   "metadata": {},
   "source": [
    "# Preprocessing"
   ]
  },
  {
   "cell_type": "code",
   "execution_count": null,
   "id": "neutral-petroleum",
   "metadata": {},
   "outputs": [],
   "source": [
    "df = df_master.copy()"
   ]
  },
  {
   "cell_type": "markdown",
   "id": "buried-suspension",
   "metadata": {},
   "source": [
    "## Continuous data"
   ]
  },
  {
   "cell_type": "code",
   "execution_count": null,
   "id": "warming-halloween",
   "metadata": {},
   "outputs": [],
   "source": [
    "df.select_dtypes(include='number')"
   ]
  },
  {
   "cell_type": "code",
   "execution_count": null,
   "id": "ordered-advancement",
   "metadata": {},
   "outputs": [],
   "source": [
    "for column_name in df.select_dtypes(include='number'):\n",
    "    df[column_name] = df[column_name].fillna(0)"
   ]
  },
  {
   "cell_type": "markdown",
   "id": "thorough-withdrawal",
   "metadata": {},
   "source": [
    "- Check if some numerical data are realy categorical data **TODO**"
   ]
  },
  {
   "cell_type": "code",
   "execution_count": null,
   "id": "black-lightweight",
   "metadata": {},
   "outputs": [],
   "source": [
    "# TODO"
   ]
  },
  {
   "cell_type": "markdown",
   "id": "existing-bernard",
   "metadata": {},
   "source": [
    "## Categorical data"
   ]
  },
  {
   "cell_type": "markdown",
   "id": "christian-marking",
   "metadata": {},
   "source": [
    "### Get columns with categorical features"
   ]
  },
  {
   "cell_type": "markdown",
   "id": "tender-brook",
   "metadata": {},
   "source": [
    "- Get columns with object type"
   ]
  },
  {
   "cell_type": "code",
   "execution_count": null,
   "id": "unlike-partnership",
   "metadata": {},
   "outputs": [],
   "source": [
    "df.select_dtypes(include='object')"
   ]
  },
  {
   "cell_type": "code",
   "execution_count": null,
   "id": "activated-least",
   "metadata": {},
   "outputs": [],
   "source": [
    "column_type_dict = df.columns.to_series().groupby(df.dtypes).groups\n",
    "print(column_type_dict.keys())\n",
    "column_type_dict"
   ]
  },
  {
   "cell_type": "markdown",
   "id": "explicit-story",
   "metadata": {},
   "source": [
    "- Check if object type columns aare realy categorical variables"
   ]
  },
  {
   "cell_type": "code",
   "execution_count": null,
   "id": "printable-caribbean",
   "metadata": {
    "scrolled": true
   },
   "outputs": [],
   "source": [
    "df_objects = df.select_dtypes(include='object')\n",
    "for column_name in df_objects:\n",
    "    print('\\n', column_name, '='*10, len(df_objects[column_name].unique()))\n",
    "    print(df_objects[column_name].unique())\n",
    "    print(df_objects[column_name].value_counts().to_dict())"
   ]
  },
  {
   "cell_type": "code",
   "execution_count": null,
   "id": "above-foster",
   "metadata": {
    "scrolled": true
   },
   "outputs": [],
   "source": [
    "categorical_columns = list(df.select_dtypes(include='object').columns)\n",
    "len(categorical_columns), categorical_columns[:10]"
   ]
  },
  {
   "cell_type": "markdown",
   "id": "micro-activity",
   "metadata": {},
   "source": [
    "### Impute missing values"
   ]
  },
  {
   "cell_type": "markdown",
   "id": "binary-radiation",
   "metadata": {},
   "source": [
    "- Fill missing values of categorical data with Nan"
   ]
  },
  {
   "cell_type": "code",
   "execution_count": null,
   "id": "pointed-trustee",
   "metadata": {},
   "outputs": [],
   "source": [
    "for column_name in categorical_columns:\n",
    "    df[column_name] = df[column_name].fillna(np.nan)"
   ]
  },
  {
   "cell_type": "markdown",
   "id": "tight-volunteer",
   "metadata": {},
   "source": [
    "### Dummify columns"
   ]
  },
  {
   "cell_type": "code",
   "execution_count": null,
   "id": "pointed-jenny",
   "metadata": {
    "scrolled": true
   },
   "outputs": [],
   "source": [
    "df_dummified = pd.get_dummies(df, columns=categorical_columns)\n",
    "df_dummified.head()"
   ]
  },
  {
   "cell_type": "markdown",
   "id": "grand-justice",
   "metadata": {},
   "source": [
    "# Feature engineering"
   ]
  },
  {
   "cell_type": "code",
   "execution_count": null,
   "id": "stable-contractor",
   "metadata": {},
   "outputs": [],
   "source": []
  },
  {
   "cell_type": "markdown",
   "id": "guilty-violence",
   "metadata": {},
   "source": [
    "## Split dataset in train and test sets"
   ]
  },
  {
   "cell_type": "code",
   "execution_count": null,
   "id": "portable-wallet",
   "metadata": {},
   "outputs": [],
   "source": [
    "final_df = df_dummified"
   ]
  },
  {
   "cell_type": "code",
   "execution_count": null,
   "id": "broadband-norwegian",
   "metadata": {},
   "outputs": [],
   "source": [
    "X, y = final_df.loc[:, final_df.columns != target_column], final_df[target_column]"
   ]
  },
  {
   "cell_type": "code",
   "execution_count": null,
   "id": "statistical-sherman",
   "metadata": {},
   "outputs": [],
   "source": [
    "from sklearn.model_selection import train_test_split\n",
    "\n",
    "X_train, X_test, y_train, y_test = train_test_split(X, y, test_size=0.2, random_state=42, shuffle=True)\n",
    "X_train.shape, y_test.shape"
   ]
  },
  {
   "cell_type": "markdown",
   "id": "later-hypothesis",
   "metadata": {},
   "source": [
    "# Modeling"
   ]
  },
  {
   "cell_type": "code",
   "execution_count": null,
   "id": "lasting-separate",
   "metadata": {},
   "outputs": [],
   "source": [
    "from sklearn.linear_model import LogisticRegression\n",
    "from sklearn.svm import SVR\n",
    "\n",
    "#model = LogisticRegression(random_state=42)\n",
    "model = SVR(C=1.0, epsilon=0.2)\n",
    "model.fit(X_train, y_train)"
   ]
  },
  {
   "cell_type": "markdown",
   "id": "literary-planner",
   "metadata": {},
   "source": [
    "# Evaluation"
   ]
  },
  {
   "cell_type": "code",
   "execution_count": null,
   "id": "angry-killing",
   "metadata": {},
   "outputs": [],
   "source": [
    "from sklearn.metrics import mean_squared_log_error\n",
    "\n",
    "def compute_rmsle(y_test: np.ndarray, y_pred: np.ndarray, precision: int = 2) -> float:\n",
    "    rmsle = np.sqrt(mean_squared_log_error(y_test, y_pred))\n",
    "    return round(rmsle, precision)"
   ]
  },
  {
   "cell_type": "code",
   "execution_count": null,
   "id": "annoying-local",
   "metadata": {},
   "outputs": [],
   "source": [
    "y_pred = model.predict(X_test)\n",
    "compute_rmsle(y_test, y_pred)"
   ]
  },
  {
   "cell_type": "markdown",
   "id": "romance-leeds",
   "metadata": {},
   "source": [
    "# Inference"
   ]
  },
  {
   "cell_type": "code",
   "execution_count": null,
   "id": "brilliant-broadcasting",
   "metadata": {},
   "outputs": [],
   "source": []
  },
  {
   "cell_type": "markdown",
   "id": "derived-forest",
   "metadata": {},
   "source": [
    "# Submission\n",
    "- [Kaggle AAPI usage](https://www.kaggle.com/docs/api)"
   ]
  },
  {
   "cell_type": "code",
   "execution_count": null,
   "id": "tropical-problem",
   "metadata": {},
   "outputs": [],
   "source": [
    "!kaggle competitions submit -c house-prices-advanced-regression-techniques -f ../data/house-prices/sample_submission.csv -m my_submission"
   ]
  },
  {
   "cell_type": "code",
   "execution_count": null,
   "id": "falling-contrast",
   "metadata": {},
   "outputs": [],
   "source": [
    "!kaggle competitions submissions -c house-prices-advanced-regression-techniques"
   ]
  }
 ],
 "metadata": {
  "kernelspec": {
   "display_name": "Python 3",
   "language": "python",
   "name": "python3"
  },
  "language_info": {
   "codemirror_mode": {
    "name": "ipython",
    "version": 3
   },
   "file_extension": ".py",
   "mimetype": "text/x-python",
   "name": "python",
   "nbconvert_exporter": "python",
   "pygments_lexer": "ipython3",
   "version": "3.7.9"
  },
  "toc": {
   "base_numbering": 1,
   "nav_menu": {},
   "number_sections": true,
   "sideBar": true,
   "skip_h1_title": false,
   "title_cell": "Table of Contents",
   "title_sidebar": "Contents",
   "toc_cell": false,
   "toc_position": {},
   "toc_section_display": true,
   "toc_window_display": false
  }
 },
 "nbformat": 4,
 "nbformat_minor": 5
}
