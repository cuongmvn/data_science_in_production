{
 "cells": [
  {
   "cell_type": "markdown",
   "id": "studied-agenda",
   "metadata": {},
   "source": [
    "\n",
    "- Train models for multiple IoT devices\n",
    "\n",
    "Useful links:\n",
    "- dataset https://archive.ics.uci.edu/ml/datasets/Combined+Cycle+Power+Plant#"
   ]
  },
  {
   "cell_type": "code",
   "execution_count": 1,
   "id": "rational-wyoming",
   "metadata": {},
   "outputs": [
    {
     "name": "stdout",
     "output_type": "stream",
     "text": [
      "time: 255 µs (started: 2021-06-09 21:56:45 +02:00)\n"
     ]
    }
   ],
   "source": [
    "%load_ext autotime\n",
    "# https://github.com/cpcloud/ipython-autotime"
   ]
  },
  {
   "cell_type": "code",
   "execution_count": 46,
   "id": "resident-session",
   "metadata": {},
   "outputs": [
    {
     "name": "stdout",
     "output_type": "stream",
     "text": [
      "time: 1.02 ms (started: 2021-06-09 22:19:18 +02:00)\n"
     ]
    },
    {
     "name": "stderr",
     "output_type": "stream",
     "text": [
      "/Users/alaa.bakhti/miniconda3/envs/dsp/lib/python3.7/site-packages/ipykernel/ipkernel.py:283: DeprecationWarning: `should_run_async` will not call `transform_cell` automatically in the future. Please pass the result to `transformed_cell` argument and any exception that happen during thetransform in `preprocessing_exc_tuple` in IPython 7.17 and above.\n",
      "  and should_run_async(code)\n"
     ]
    }
   ],
   "source": [
    "import numpy as np\n",
    "import pandas as pd\n",
    "import matplotlib.pyplot as plt\n",
    "import mlflow\n",
    "from mlflow.tracking import MlflowClient\n",
    "\n",
    "from sklearn.model_selection import train_test_split\n",
    "from sklearn.ensemble import RandomForestRegressor\n",
    "from sklearn.metrics import mean_squared_error\n",
    "\n",
    "np.random.seed(42)\n",
    "\n",
    "plt.rcParams['figure.figsize'] = [10, 7]"
   ]
  },
  {
   "cell_type": "code",
   "execution_count": 3,
   "id": "drawn-shanghai",
   "metadata": {},
   "outputs": [
    {
     "name": "stdout",
     "output_type": "stream",
     "text": [
      "time: 368 µs (started: 2021-06-09 21:56:48 +02:00)\n"
     ]
    },
    {
     "name": "stderr",
     "output_type": "stream",
     "text": [
      "/Users/alaa.bakhti/miniconda3/envs/dsp/lib/python3.7/site-packages/ipykernel/ipkernel.py:283: DeprecationWarning: `should_run_async` will not call `transform_cell` automatically in the future. Please pass the result to `transformed_cell` argument and any exception that happen during thetransform in `preprocessing_exc_tuple` in IPython 7.17 and above.\n",
      "  and should_run_async(code)\n"
     ]
    }
   ],
   "source": [
    "filepath = \"../../data/power_plant/power_plant.csv\"\n",
    "target_column = \"PE\"\n",
    "feature_column_list = [\"AT\", \"V\", \"AP\", \"RH\"]\n",
    "device_id_column = \"device_id\""
   ]
  },
  {
   "cell_type": "code",
   "execution_count": 4,
   "id": "located-routine",
   "metadata": {},
   "outputs": [
    {
     "data": {
      "text/plain": [
       "'1'"
      ]
     },
     "execution_count": 4,
     "metadata": {},
     "output_type": "execute_result"
    },
    {
     "name": "stdout",
     "output_type": "stream",
     "text": [
      "time: 52 ms (started: 2021-06-09 21:56:48 +02:00)\n"
     ]
    }
   ],
   "source": [
    "mlflow.set_tracking_uri('http://127.0.0.1:5000')\n",
    "\n",
    "experiment_name = \"retraining_pipeline_dsp\"\n",
    "\n",
    "mlflow.set_experiment(experiment_name)\n",
    "\n",
    "experiment_id = mlflow.get_experiment_by_name(experiment_name).experiment_id\n",
    "experiment_id"
   ]
  },
  {
   "cell_type": "code",
   "execution_count": 5,
   "id": "coupled-audit",
   "metadata": {
    "scrolled": true
   },
   "outputs": [
    {
     "data": {
      "text/html": [
       "<div>\n",
       "<style scoped>\n",
       "    .dataframe tbody tr th:only-of-type {\n",
       "        vertical-align: middle;\n",
       "    }\n",
       "\n",
       "    .dataframe tbody tr th {\n",
       "        vertical-align: top;\n",
       "    }\n",
       "\n",
       "    .dataframe thead th {\n",
       "        text-align: right;\n",
       "    }\n",
       "</style>\n",
       "<table border=\"1\" class=\"dataframe\">\n",
       "  <thead>\n",
       "    <tr style=\"text-align: right;\">\n",
       "      <th></th>\n",
       "      <th>AT</th>\n",
       "      <th>V</th>\n",
       "      <th>AP</th>\n",
       "      <th>RH</th>\n",
       "      <th>PE</th>\n",
       "    </tr>\n",
       "  </thead>\n",
       "  <tbody>\n",
       "    <tr>\n",
       "      <th>0</th>\n",
       "      <td>14.96</td>\n",
       "      <td>41.76</td>\n",
       "      <td>1024.07</td>\n",
       "      <td>73.17</td>\n",
       "      <td>463.26</td>\n",
       "    </tr>\n",
       "    <tr>\n",
       "      <th>1</th>\n",
       "      <td>25.18</td>\n",
       "      <td>62.96</td>\n",
       "      <td>1020.04</td>\n",
       "      <td>59.08</td>\n",
       "      <td>444.37</td>\n",
       "    </tr>\n",
       "    <tr>\n",
       "      <th>2</th>\n",
       "      <td>5.11</td>\n",
       "      <td>39.40</td>\n",
       "      <td>1012.16</td>\n",
       "      <td>92.14</td>\n",
       "      <td>488.56</td>\n",
       "    </tr>\n",
       "    <tr>\n",
       "      <th>3</th>\n",
       "      <td>20.86</td>\n",
       "      <td>57.32</td>\n",
       "      <td>1010.24</td>\n",
       "      <td>76.64</td>\n",
       "      <td>446.48</td>\n",
       "    </tr>\n",
       "    <tr>\n",
       "      <th>4</th>\n",
       "      <td>10.82</td>\n",
       "      <td>37.50</td>\n",
       "      <td>1009.23</td>\n",
       "      <td>96.62</td>\n",
       "      <td>473.90</td>\n",
       "    </tr>\n",
       "  </tbody>\n",
       "</table>\n",
       "</div>"
      ],
      "text/plain": [
       "      AT      V       AP     RH      PE\n",
       "0  14.96  41.76  1024.07  73.17  463.26\n",
       "1  25.18  62.96  1020.04  59.08  444.37\n",
       "2   5.11  39.40  1012.16  92.14  488.56\n",
       "3  20.86  57.32  1010.24  76.64  446.48\n",
       "4  10.82  37.50  1009.23  96.62  473.90"
      ]
     },
     "execution_count": 5,
     "metadata": {},
     "output_type": "execute_result"
    },
    {
     "name": "stdout",
     "output_type": "stream",
     "text": [
      "time: 40.8 ms (started: 2021-06-09 21:56:48 +02:00)\n"
     ]
    }
   ],
   "source": [
    "df = pd.read_csv(filepath)\n",
    "df.head()"
   ]
  },
  {
   "cell_type": "markdown",
   "id": "micro-newcastle",
   "metadata": {},
   "source": [
    "- The dataset contains 9568 data points collected from a Combined Cycle Power Plant over 6 years (2006-2011). Features consist of hourly average ambient variables Temperature (T), Ambient Pressure (AP), Relative Humidity (RH) and Exhaust Vacuum (V) **to predict the net hourly electrical energy output (EP) of the plant**.\n",
    "\n",
    "- Features consist of hourly average ambient variables\n",
    "    - **T**: Temperature\n",
    "    - **AP**: Ambient Pressure\n",
    "    - **RH**: Relative Humidity\n",
    "    - **V**: Exhaust Vacuum\n",
    "    - **EP**: Net hourly electrical energy output\n",
    "\n",
    "- The averages are taken from various sensors located around the plant that record the ambient variables every second. "
   ]
  },
  {
   "cell_type": "markdown",
   "id": "renewable-universal",
   "metadata": {},
   "source": [
    "- Add a new column `device_id` to create 4 different IoT devices."
   ]
  },
  {
   "cell_type": "code",
   "execution_count": 6,
   "id": "sustainable-appeal",
   "metadata": {},
   "outputs": [
    {
     "name": "stderr",
     "output_type": "stream",
     "text": [
      "/Users/alaa.bakhti/miniconda3/envs/dsp/lib/python3.7/site-packages/ipykernel/ipkernel.py:283: DeprecationWarning: `should_run_async` will not call `transform_cell` automatically in the future. Please pass the result to `transformed_cell` argument and any exception that happen during thetransform in `preprocessing_exc_tuple` in IPython 7.17 and above.\n",
      "  and should_run_async(code)\n"
     ]
    },
    {
     "data": {
      "text/html": [
       "<div>\n",
       "<style scoped>\n",
       "    .dataframe tbody tr th:only-of-type {\n",
       "        vertical-align: middle;\n",
       "    }\n",
       "\n",
       "    .dataframe tbody tr th {\n",
       "        vertical-align: top;\n",
       "    }\n",
       "\n",
       "    .dataframe thead th {\n",
       "        text-align: right;\n",
       "    }\n",
       "</style>\n",
       "<table border=\"1\" class=\"dataframe\">\n",
       "  <thead>\n",
       "    <tr style=\"text-align: right;\">\n",
       "      <th></th>\n",
       "      <th>AT</th>\n",
       "      <th>V</th>\n",
       "      <th>AP</th>\n",
       "      <th>RH</th>\n",
       "      <th>PE</th>\n",
       "      <th>device_id</th>\n",
       "    </tr>\n",
       "  </thead>\n",
       "  <tbody>\n",
       "    <tr>\n",
       "      <th>7117</th>\n",
       "      <td>21.53</td>\n",
       "      <td>52.84</td>\n",
       "      <td>1005.06</td>\n",
       "      <td>88.22</td>\n",
       "      <td>444.04</td>\n",
       "      <td>0</td>\n",
       "    </tr>\n",
       "    <tr>\n",
       "      <th>17209</th>\n",
       "      <td>7.61</td>\n",
       "      <td>44.71</td>\n",
       "      <td>1019.41</td>\n",
       "      <td>70.48</td>\n",
       "      <td>485.36</td>\n",
       "      <td>0</td>\n",
       "    </tr>\n",
       "    <tr>\n",
       "      <th>25622</th>\n",
       "      <td>15.25</td>\n",
       "      <td>52.90</td>\n",
       "      <td>1014.86</td>\n",
       "      <td>76.87</td>\n",
       "      <td>463.93</td>\n",
       "      <td>1</td>\n",
       "    </tr>\n",
       "    <tr>\n",
       "      <th>24430</th>\n",
       "      <td>23.91</td>\n",
       "      <td>50.23</td>\n",
       "      <td>1017.25</td>\n",
       "      <td>68.57</td>\n",
       "      <td>455.41</td>\n",
       "      <td>0</td>\n",
       "    </tr>\n",
       "    <tr>\n",
       "      <th>25740</th>\n",
       "      <td>30.74</td>\n",
       "      <td>79.05</td>\n",
       "      <td>1005.78</td>\n",
       "      <td>73.19</td>\n",
       "      <td>430.69</td>\n",
       "      <td>1</td>\n",
       "    </tr>\n",
       "  </tbody>\n",
       "</table>\n",
       "</div>"
      ],
      "text/plain": [
       "          AT      V       AP     RH      PE  device_id\n",
       "7117   21.53  52.84  1005.06  88.22  444.04          0\n",
       "17209   7.61  44.71  1019.41  70.48  485.36          0\n",
       "25622  15.25  52.90  1014.86  76.87  463.93          1\n",
       "24430  23.91  50.23  1017.25  68.57  455.41          0\n",
       "25740  30.74  79.05  1005.78  73.19  430.69          1"
      ]
     },
     "execution_count": 6,
     "metadata": {},
     "output_type": "execute_result"
    },
    {
     "name": "stdout",
     "output_type": "stream",
     "text": [
      "time: 13.3 ms (started: 2021-06-09 21:56:48 +02:00)\n"
     ]
    }
   ],
   "source": [
    "df[\"device_id\"] = np.random.randint(0, 4, size=len(df))\n",
    "df.sample(5)"
   ]
  },
  {
   "cell_type": "code",
   "execution_count": 7,
   "id": "hundred-northern",
   "metadata": {},
   "outputs": [
    {
     "name": "stderr",
     "output_type": "stream",
     "text": [
      "/Users/alaa.bakhti/miniconda3/envs/dsp/lib/python3.7/site-packages/ipykernel/ipkernel.py:283: DeprecationWarning: `should_run_async` will not call `transform_cell` automatically in the future. Please pass the result to `transformed_cell` argument and any exception that happen during thetransform in `preprocessing_exc_tuple` in IPython 7.17 and above.\n",
      "  and should_run_async(code)\n"
     ]
    },
    {
     "data": {
      "text/plain": [
       "0    12081\n",
       "3    11995\n",
       "2    11897\n",
       "1    11867\n",
       "Name: device_id, dtype: int64"
      ]
     },
     "execution_count": 7,
     "metadata": {},
     "output_type": "execute_result"
    },
    {
     "name": "stdout",
     "output_type": "stream",
     "text": [
      "time: 6.3 ms (started: 2021-06-09 21:56:48 +02:00)\n"
     ]
    }
   ],
   "source": [
    "df.device_id.value_counts()"
   ]
  },
  {
   "cell_type": "code",
   "execution_count": 8,
   "id": "democratic-sterling",
   "metadata": {},
   "outputs": [
    {
     "data": {
      "text/plain": [
       "<AxesSubplot:>"
      ]
     },
     "execution_count": 8,
     "metadata": {},
     "output_type": "execute_result"
    },
    {
     "data": {
      "image/png": "[encoded data removed]",
      "text/plain": [
       "<Figure size 720x504 with 1 Axes>"
      ]
     },
     "metadata": {
      "needs_background": "light"
     },
     "output_type": "display_data"
    },
    {
     "name": "stdout",
     "output_type": "stream",
     "text": [
      "time: 408 ms (started: 2021-06-09 21:56:48 +02:00)\n"
     ]
    }
   ],
   "source": [
    "df[target_column].hist(bins=100)"
   ]
  },
  {
   "cell_type": "code",
   "execution_count": 9,
   "id": "crucial-driver",
   "metadata": {},
   "outputs": [
    {
     "name": "stdout",
     "output_type": "stream",
     "text": [
      "time: 264 µs (started: 2021-06-09 21:56:48 +02:00)\n"
     ]
    }
   ],
   "source": [
    "#df[df[device_id_column] == 0][target_column].hist(bins=100)"
   ]
  },
  {
   "cell_type": "markdown",
   "id": "regular-medication",
   "metadata": {},
   "source": [
    "# Model training"
   ]
  },
  {
   "cell_type": "code",
   "execution_count": 10,
   "id": "responsible-wealth",
   "metadata": {},
   "outputs": [
    {
     "name": "stdout",
     "output_type": "stream",
     "text": [
      "time: 1.59 ms (started: 2021-06-09 21:56:48 +02:00)\n"
     ]
    }
   ],
   "source": [
    "def train_device_model(device_df, run_id, experiment_id, month_to_log):\n",
    "    \"\"\" Train a model for a single IoT device\"\"\"\n",
    "    \n",
    "    device_id = device_df[device_id_column].iloc[0]\n",
    "    \n",
    "    #with mlflow.start_run(run_id=run_id):\n",
    "    # Create a nested run for the specific device\n",
    "    with mlflow.start_run(experiment_id=experiment_id, run_name=str(device_id), nested=True) as nested_run:\n",
    "\n",
    "        mlflow.autolog(log_input_examples=True)\n",
    "\n",
    "        # Pull metadata\n",
    "        mlflow.log_param(\"device_id\", device_id)\n",
    "        mlflow.log_param(\"month\", month_to_log)\n",
    "\n",
    "        num_instances = len(device_df)\n",
    "        mlflow.log_param(\"num_instances\", num_instances)\n",
    "\n",
    "        # Split data\n",
    "        X = device_df[[\"AT\", \"V\", \"AP\", \"RH\"]]\n",
    "        y = device_df[\"PE\"]\n",
    "        X_train, X_test, y_train, y_test = train_test_split(X, y, test_size=0.2, random_state=42)\n",
    "\n",
    "        # Track data info as params\n",
    "        num_training = len(X_train)\n",
    "        mlflow.log_param(\"num_training\", num_training)\n",
    "        num_test = len(X_test)\n",
    "        mlflow.log_param(\"num_test\", num_test)\n",
    "\n",
    "        # Fit model\n",
    "        rf = RandomForestRegressor()\n",
    "        rf.fit(X_train, y_train)\n",
    "\n",
    "        # Evaluate the model\n",
    "        predictions = rf.predict(X_test)\n",
    "        test_mse = mean_squared_error(y_test, predictions)\n",
    "        mlflow.log_metric(\"test_mse\", test_mse)\n",
    "\n",
    "        # Return run metadata\n",
    "        artifact_uri = f\"runs:/{nested_run.info.run_id}/model\"\n",
    "        nested_run_id = nested_run.info.run_id\n",
    "\n",
    "\n",
    "        # Create a return pandas DataFrame\n",
    "        ret_df = {\n",
    "            \"device_id\": device_id,\n",
    "            \"run_id\": run_id,\n",
    "            \"num_instances\": num_instances,\n",
    "            \"num_training\": num_training,\n",
    "            \"num_test\": num_test,\n",
    "            \"model_path\": artifact_uri,\n",
    "            \"test_mse\": test_mse\n",
    "\n",
    "        }\n",
    "    return test_mse"
   ]
  },
  {
   "cell_type": "code",
   "execution_count": 11,
   "id": "public-greensboro",
   "metadata": {},
   "outputs": [
    {
     "name": "stdout",
     "output_type": "stream",
     "text": [
      "time: 419 µs (started: 2021-06-09 21:56:48 +02:00)\n"
     ]
    }
   ],
   "source": [
    "#df.groupby(device_id_column).apply(train_device_model)"
   ]
  },
  {
   "cell_type": "code",
   "execution_count": 12,
   "id": "divine-counter",
   "metadata": {},
   "outputs": [
    {
     "name": "stdout",
     "output_type": "stream",
     "text": [
      "time: 890 µs (started: 2021-06-09 21:56:48 +02:00)\n"
     ]
    }
   ],
   "source": [
    "#for device_id in range(4):\n",
    "#    train_device_model(df[df[device_id_column] == device_id])"
   ]
  },
  {
   "cell_type": "code",
   "execution_count": 60,
   "id": "chicken-appendix",
   "metadata": {},
   "outputs": [
    {
     "name": "stdout",
     "output_type": "stream",
     "text": [
      "time: 2.13 ms (started: 2021-06-09 22:28:51 +02:00)\n"
     ]
    },
    {
     "name": "stderr",
     "output_type": "stream",
     "text": [
      "/Users/alaa.bakhti/miniconda3/envs/dsp/lib/python3.7/site-packages/ipykernel/ipkernel.py:283: DeprecationWarning: `should_run_async` will not call `transform_cell` automatically in the future. Please pass the result to `transformed_cell` argument and any exception that happen during thetransform in `preprocessing_exc_tuple` in IPython 7.17 and above.\n",
      "  and should_run_async(code)\n"
     ]
    }
   ],
   "source": [
    "from multiprocessing import Pool\n",
    "from functools import partial\n",
    "\n",
    "def mapped_training(run_name, training_df, month):\n",
    "    \"\"\" Apply mapped training with MLflow tracking \"\"\"\n",
    "    \n",
    "    with mlflow.start_run(run_name=run_name) as run:\n",
    "\n",
    "        mlflow.autolog()\n",
    "    \n",
    "        # Track anything to parent run here\n",
    "        mlflow.log_param(\"month\", month)\n",
    "        mlflow.log_param(\"total_instances_all_devices\", training_df.count())\n",
    "\n",
    "        month_to_log = month\n",
    "        run_id = run.info.run_id\n",
    "        experiment_id = run.info.experiment_id\n",
    "        \n",
    "        # Prepare data and execute model\n",
    "        pool = Pool()\n",
    "        \n",
    "        device_df_list = [training_df[training_df[device_id_column] == device_id] for device_id in range(4)]\n",
    "        mapped_results_dict_list = pool.map(\n",
    "            partial(train_device_model, run_id=run_id, experiment_id=experiment_id, month_to_log=month_to_log),\n",
    "            device_df_list\n",
    "        )\n",
    "\n",
    "    return mapped_results_dict_list"
   ]
  },
  {
   "cell_type": "code",
   "execution_count": 31,
   "id": "challenging-budapest",
   "metadata": {
    "scrolled": false
   },
   "outputs": [
    {
     "name": "stderr",
     "output_type": "stream",
     "text": [
      "2021/06/09 22:09:39 INFO mlflow.tracking.fluent: Autologging successfully enabled for sklearn.\n",
      "2021/06/09 22:09:39 INFO mlflow.tracking.fluent: Autologging successfully enabled for sklearn.\n",
      "2021/06/09 22:09:39 INFO mlflow.tracking.fluent: Autologging successfully enabled for sklearn.\n",
      "2021/06/09 22:09:39 INFO mlflow.tracking.fluent: Autologging successfully enabled for sklearn.\n",
      "2021/06/09 22:09:39 INFO mlflow.tracking.fluent: Autologging successfully enabled for sklearn.\n"
     ]
    },
    {
     "data": {
      "text/plain": [
       "[4.8642669505378775, 5.396214081179497, 5.011336795449574, 4.544762642050846]"
      ]
     },
     "execution_count": 31,
     "metadata": {},
     "output_type": "execute_result"
    },
    {
     "name": "stdout",
     "output_type": "stream",
     "text": [
      "time: 4.28 s (started: 2021-06-09 22:09:39 +02:00)\n"
     ]
    }
   ],
   "source": [
    "mapped_training(\"month_1\", df, month=1)"
   ]
  },
  {
   "cell_type": "markdown",
   "id": "superb-council",
   "metadata": {},
   "source": [
    "# Data shift"
   ]
  },
  {
   "cell_type": "code",
   "execution_count": 18,
   "id": "metropolitan-irish",
   "metadata": {},
   "outputs": [
    {
     "name": "stdout",
     "output_type": "stream",
     "text": [
      "time: 6.25 ms (started: 2021-06-09 22:01:27 +02:00)\n"
     ]
    },
    {
     "name": "stderr",
     "output_type": "stream",
     "text": [
      "/Users/alaa.bakhti/miniconda3/envs/dsp/lib/python3.7/site-packages/ipykernel/ipkernel.py:283: DeprecationWarning: `should_run_async` will not call `transform_cell` automatically in the future. Please pass the result to `transformed_cell` argument and any exception that happen during thetransform in `preprocessing_exc_tuple` in IPython 7.17 and above.\n",
      "  and should_run_async(code)\n"
     ]
    }
   ],
   "source": [
    "df_lower_distribution = df[df[\"PE\"] < 470]\n",
    "\n",
    "# Create 2 \"months\" worth of data from the same distribution\n",
    "mask = np.random.rand(len(df_lower_distribution)) < 0.5\n",
    "df_1, df_2 = df_lower_distribution[mask], df_lower_distribution[~mask]"
   ]
  },
  {
   "cell_type": "code",
   "execution_count": 21,
   "id": "outside-league",
   "metadata": {},
   "outputs": [
    {
     "data": {
      "text/plain": [
       "<AxesSubplot:>"
      ]
     },
     "execution_count": 21,
     "metadata": {},
     "output_type": "execute_result"
    },
    {
     "data": {
      "image/png": "[encoded data removed]",
      "text/plain": [
       "<Figure size 720x504 with 1 Axes>"
      ]
     },
     "metadata": {
      "needs_background": "light"
     },
     "output_type": "display_data"
    },
    {
     "name": "stdout",
     "output_type": "stream",
     "text": [
      "time: 814 ms (started: 2021-06-09 22:01:49 +02:00)\n"
     ]
    }
   ],
   "source": [
    "df_1[target_column].hist(bins=100)"
   ]
  },
  {
   "cell_type": "code",
   "execution_count": 22,
   "id": "banner-popularity",
   "metadata": {},
   "outputs": [
    {
     "data": {
      "text/plain": [
       "<AxesSubplot:>"
      ]
     },
     "execution_count": 22,
     "metadata": {},
     "output_type": "execute_result"
    },
    {
     "data": {
      "image/png": "[encoded data removed]",
      "text/plain": [
       "<Figure size 720x504 with 1 Axes>"
      ]
     },
     "metadata": {
      "needs_background": "light"
     },
     "output_type": "display_data"
    },
    {
     "name": "stdout",
     "output_type": "stream",
     "text": [
      "time: 266 ms (started: 2021-06-09 22:01:56 +02:00)\n"
     ]
    }
   ],
   "source": [
    "df_2[target_column].hist(bins=100)"
   ]
  },
  {
   "cell_type": "code",
   "execution_count": 25,
   "id": "registered-mobility",
   "metadata": {},
   "outputs": [
    {
     "name": "stderr",
     "output_type": "stream",
     "text": [
      "/Users/alaa.bakhti/miniconda3/envs/dsp/lib/python3.7/site-packages/ipykernel/ipkernel.py:283: DeprecationWarning: `should_run_async` will not call `transform_cell` automatically in the future. Please pass the result to `transformed_cell` argument and any exception that happen during thetransform in `preprocessing_exc_tuple` in IPython 7.17 and above.\n",
      "  and should_run_async(code)\n"
     ]
    },
    {
     "data": {
      "text/plain": [
       "<AxesSubplot:>"
      ]
     },
     "execution_count": 25,
     "metadata": {},
     "output_type": "execute_result"
    },
    {
     "data": {
      "image/png": "[encoded data removed]",
      "text/plain": [
       "<Figure size 720x504 with 1 Axes>"
      ]
     },
     "metadata": {
      "needs_background": "light"
     },
     "output_type": "display_data"
    },
    {
     "name": "stdout",
     "output_type": "stream",
     "text": [
      "time: 266 ms (started: 2021-06-09 22:03:02 +02:00)\n"
     ]
    }
   ],
   "source": [
    "df_3 = df[df[\"PE\"] >= 470]\n",
    "df_3[\"PE\"].hist(bins=100)"
   ]
  },
  {
   "cell_type": "markdown",
   "id": "automotive-blend",
   "metadata": {},
   "source": [
    "# Retraining"
   ]
  },
  {
   "cell_type": "markdown",
   "id": "smooth-glucose",
   "metadata": {},
   "source": [
    "## Month 1"
   ]
  },
  {
   "cell_type": "code",
   "execution_count": 26,
   "id": "compound-dividend",
   "metadata": {},
   "outputs": [
    {
     "name": "stderr",
     "output_type": "stream",
     "text": [
      "/Users/alaa.bakhti/miniconda3/envs/dsp/lib/python3.7/site-packages/ipykernel/ipkernel.py:283: DeprecationWarning: `should_run_async` will not call `transform_cell` automatically in the future. Please pass the result to `transformed_cell` argument and any exception that happen during thetransform in `preprocessing_exc_tuple` in IPython 7.17 and above.\n",
      "  and should_run_async(code)\n",
      "2021/06/09 22:04:53 INFO mlflow.tracking.fluent: Autologging successfully enabled for sklearn.\n",
      "2021/06/09 22:04:54 INFO mlflow.tracking.fluent: Autologging successfully enabled for sklearn.\n",
      "2021/06/09 22:04:54 INFO mlflow.tracking.fluent: Autologging successfully enabled for sklearn.\n",
      "2021/06/09 22:04:54 INFO mlflow.tracking.fluent: Autologging successfully enabled for sklearn.\n",
      "2021/06/09 22:04:54 INFO mlflow.tracking.fluent: Autologging successfully enabled for sklearn.\n"
     ]
    },
    {
     "data": {
      "text/plain": [
       "[7.991769596934798, 7.692271685135422, 7.887024664352049, 7.143787195359727]"
      ]
     },
     "execution_count": 26,
     "metadata": {},
     "output_type": "execute_result"
    },
    {
     "name": "stdout",
     "output_type": "stream",
     "text": [
      "time: 1.99 s (started: 2021-06-09 22:04:53 +02:00)\n"
     ]
    }
   ],
   "source": [
    "run_name = \"month_1\"\n",
    "\n",
    "month_1_df = df_1\n",
    "\n",
    "mapped_results_1 = mapped_training(run_name, month_1_df, month=1)\n",
    "mapped_results_1"
   ]
  },
  {
   "cell_type": "markdown",
   "id": "expired-sample",
   "metadata": {},
   "source": [
    "## Register and transition model"
   ]
  },
  {
   "cell_type": "markdown",
   "id": "legislative-method",
   "metadata": {},
   "source": [
    "### Register model"
   ]
  },
  {
   "cell_type": "code",
   "execution_count": 41,
   "id": "voluntary-engine",
   "metadata": {},
   "outputs": [
    {
     "name": "stdout",
     "output_type": "stream",
     "text": [
      "time: 567 µs (started: 2021-06-09 22:15:29 +02:00)\n"
     ]
    }
   ],
   "source": [
    "def register_model_by_device_id(experiment_id, device_id):\n",
    "    \"\"\"\n",
    "    Register model from most recent MLflow run by device_id\n",
    "\n",
    "    returns Single mlflow.entities.model_registry.ModelVersion object created by backend\n",
    "    \"\"\"\n",
    "    # Get run id for most recent run for given device\n",
    "    run_id = mlflow.search_runs(experiment_id,\n",
    "                                order_by=['attributes.start_time desc'],\n",
    "                                filter_string=f\"params.device_id = '{device_id}'\").iloc[0][\"run_id\"]\n",
    "\n",
    "    model_version = mlflow.register_model(model_uri=f\"runs:/{run_id}/model\", name=f\"powerplant_device_{device_id}\")\n",
    "\n",
    "    return model_version"
   ]
  },
  {
   "cell_type": "code",
   "execution_count": 43,
   "id": "electronic-status",
   "metadata": {},
   "outputs": [
    {
     "name": "stderr",
     "output_type": "stream",
     "text": [
      "Registered model 'powerplant_device_0' already exists. Creating a new version of this model...\n",
      "2021/06/09 22:16:18 INFO mlflow.tracking._model_registry.client: Waiting up to 300 seconds for model version to finish creation.                     Model name: powerplant_device_0, version 2\n",
      "Created version '2' of model 'powerplant_device_0'.\n",
      "Successfully registered model 'powerplant_device_1'.\n",
      "2021/06/09 22:16:18 INFO mlflow.tracking._model_registry.client: Waiting up to 300 seconds for model version to finish creation.                     Model name: powerplant_device_1, version 1\n",
      "Created version '1' of model 'powerplant_device_1'.\n",
      "Successfully registered model 'powerplant_device_2'.\n",
      "2021/06/09 22:16:18 INFO mlflow.tracking._model_registry.client: Waiting up to 300 seconds for model version to finish creation.                     Model name: powerplant_device_2, version 1\n",
      "Created version '1' of model 'powerplant_device_2'.\n",
      "Successfully registered model 'powerplant_device_3'.\n",
      "2021/06/09 22:16:18 INFO mlflow.tracking._model_registry.client: Waiting up to 300 seconds for model version to finish creation.                     Model name: powerplant_device_3, version 1\n"
     ]
    },
    {
     "name": "stdout",
     "output_type": "stream",
     "text": [
      "time: 359 ms (started: 2021-06-09 22:16:18 +02:00)\n"
     ]
    },
    {
     "name": "stderr",
     "output_type": "stream",
     "text": [
      "Created version '1' of model 'powerplant_device_3'.\n"
     ]
    }
   ],
   "source": [
    "month_1_model_version_0 = register_model_by_device_id(experiment_id, device_id=0)\n",
    "month_1_model_version_1 = register_model_by_device_id(experiment_id, device_id=1)\n",
    "month_1_model_version_2 = register_model_by_device_id(experiment_id, device_id=2)\n",
    "month_1_model_version_3 = register_model_by_device_id(experiment_id, device_id=3)"
   ]
  },
  {
   "cell_type": "markdown",
   "id": "nasty-disposition",
   "metadata": {},
   "source": [
    "### Transition model"
   ]
  },
  {
   "cell_type": "code",
   "execution_count": 44,
   "id": "amino-ladder",
   "metadata": {},
   "outputs": [
    {
     "name": "stdout",
     "output_type": "stream",
     "text": [
      "time: 459 µs (started: 2021-06-09 22:17:50 +02:00)\n"
     ]
    }
   ],
   "source": [
    "def transition_model(model_version, stage):\n",
    "    \"\"\"\n",
    "    Transition a model to a specified stage in MLflow Model Registry using the associated\n",
    "    mlflow.entities.model_registry.ModelVersion object.\n",
    "\n",
    "    :param model_version: mlflow.entities.model_registry.ModelVersion. ModelVersion object to transition\n",
    "    :param stage: (str) New desired stage for this model version. One of \"Staging\" or \"Production\"\n",
    "\n",
    "    :return: A single mlflow.entities.model_registry.ModelVersion object\n",
    "    \"\"\"\n",
    "    client = MlflowClient()\n",
    "    \n",
    "    model_version = client.transition_model_version_stage(\n",
    "        name=model_version.name,\n",
    "        version=model_version.version,\n",
    "        stage=stage,\n",
    "        archive_existing_versions=False\n",
    "    )\n",
    "\n",
    "    return model_version"
   ]
  },
  {
   "cell_type": "code",
   "execution_count": 47,
   "id": "biological-watch",
   "metadata": {},
   "outputs": [
    {
     "name": "stdout",
     "output_type": "stream",
     "text": [
      "time: 50.6 ms (started: 2021-06-09 22:22:44 +02:00)\n"
     ]
    }
   ],
   "source": [
    "month_1_model_version_0 = transition_model(month_1_model_version_0, stage=\"Production\")"
   ]
  },
  {
   "cell_type": "code",
   "execution_count": 48,
   "id": "hispanic-favor",
   "metadata": {},
   "outputs": [
    {
     "name": "stdout",
     "output_type": "stream",
     "text": [
      "time: 94.3 ms (started: 2021-06-09 22:22:57 +02:00)\n"
     ]
    }
   ],
   "source": [
    "month_1_model_version_0 = transition_model(month_1_model_version_0, stage=\"Production\")\n",
    "month_1_model_version_1 = transition_model(month_1_model_version_1, stage=\"Production\")\n",
    "month_1_model_version_2 = transition_model(month_1_model_version_2, stage=\"Production\")\n",
    "month_1_model_version_3 = transition_model(month_1_model_version_3, stage=\"Production\")"
   ]
  },
  {
   "cell_type": "markdown",
   "id": "eleven-brief",
   "metadata": {},
   "source": [
    "## Month 2"
   ]
  },
  {
   "cell_type": "code",
   "execution_count": 66,
   "id": "focal-eight",
   "metadata": {},
   "outputs": [
    {
     "name": "stderr",
     "output_type": "stream",
     "text": [
      "/Users/alaa.bakhti/miniconda3/envs/dsp/lib/python3.7/site-packages/ipykernel/ipkernel.py:283: DeprecationWarning: `should_run_async` will not call `transform_cell` automatically in the future. Please pass the result to `transformed_cell` argument and any exception that happen during thetransform in `preprocessing_exc_tuple` in IPython 7.17 and above.\n",
      "  and should_run_async(code)\n",
      "2021/06/09 22:33:42 INFO mlflow.tracking.fluent: Autologging successfully enabled for sklearn.\n",
      "2021/06/09 22:33:42 INFO mlflow.tracking.fluent: Autologging successfully enabled for sklearn.\n",
      "2021/06/09 22:33:42 INFO mlflow.tracking.fluent: Autologging successfully enabled for sklearn.\n",
      "2021/06/09 22:33:42 INFO mlflow.tracking.fluent: Autologging successfully enabled for sklearn.\n",
      "2021/06/09 22:33:42 INFO mlflow.tracking.fluent: Autologging successfully enabled for sklearn.\n"
     ]
    },
    {
     "data": {
      "text/plain": [
       "[4.8293869776706515, 5.310079966819747, 4.967665792605043, 4.548094371150494]"
      ]
     },
     "execution_count": 66,
     "metadata": {},
     "output_type": "execute_result"
    },
    {
     "name": "stdout",
     "output_type": "stream",
     "text": [
      "time: 5.37 s (started: 2021-06-09 22:33:42 +02:00)\n"
     ]
    }
   ],
   "source": [
    "mapped_training(\"month_2\", df, month=2)"
   ]
  },
  {
   "cell_type": "code",
   "execution_count": 67,
   "id": "outdoor-transport",
   "metadata": {},
   "outputs": [
    {
     "name": "stderr",
     "output_type": "stream",
     "text": [
      "/Users/alaa.bakhti/miniconda3/envs/dsp/lib/python3.7/site-packages/ipykernel/ipkernel.py:283: DeprecationWarning: `should_run_async` will not call `transform_cell` automatically in the future. Please pass the result to `transformed_cell` argument and any exception that happen during thetransform in `preprocessing_exc_tuple` in IPython 7.17 and above.\n",
      "  and should_run_async(code)\n",
      "Registered model 'powerplant_device_0' already exists. Creating a new version of this model...\n",
      "2021/06/09 22:34:08 INFO mlflow.tracking._model_registry.client: Waiting up to 300 seconds for model version to finish creation.                     Model name: powerplant_device_0, version 3\n",
      "Created version '3' of model 'powerplant_device_0'.\n",
      "Registered model 'powerplant_device_1' already exists. Creating a new version of this model...\n",
      "2021/06/09 22:34:08 INFO mlflow.tracking._model_registry.client: Waiting up to 300 seconds for model version to finish creation.                     Model name: powerplant_device_1, version 2\n",
      "Created version '2' of model 'powerplant_device_1'.\n",
      "Registered model 'powerplant_device_2' already exists. Creating a new version of this model...\n",
      "2021/06/09 22:34:08 INFO mlflow.tracking._model_registry.client: Waiting up to 300 seconds for model version to finish creation.                     Model name: powerplant_device_2, version 2\n",
      "Created version '2' of model 'powerplant_device_2'.\n",
      "Registered model 'powerplant_device_3' already exists. Creating a new version of this model...\n",
      "2021/06/09 22:34:08 INFO mlflow.tracking._model_registry.client: Waiting up to 300 seconds for model version to finish creation.                     Model name: powerplant_device_3, version 2\n"
     ]
    },
    {
     "name": "stdout",
     "output_type": "stream",
     "text": [
      "time: 451 ms (started: 2021-06-09 22:34:07 +02:00)\n"
     ]
    },
    {
     "name": "stderr",
     "output_type": "stream",
     "text": [
      "Created version '2' of model 'powerplant_device_3'.\n"
     ]
    }
   ],
   "source": [
    "# Register\n",
    "month_2_model_version_0 = register_model_by_device_id(experiment_id, device_id=0)\n",
    "month_2_model_version_1 = register_model_by_device_id(experiment_id, device_id=1)\n",
    "month_2_model_version_2 = register_model_by_device_id(experiment_id, device_id=2)\n",
    "month_2_model_version_3 = register_model_by_device_id(experiment_id, device_id=3)"
   ]
  },
  {
   "cell_type": "code",
   "execution_count": 68,
   "id": "present-louis",
   "metadata": {},
   "outputs": [
    {
     "name": "stdout",
     "output_type": "stream",
     "text": [
      "time: 51.6 ms (started: 2021-06-09 22:34:16 +02:00)\n"
     ]
    }
   ],
   "source": [
    "# Transition to Staging\n",
    "month_2_model_version_0 = transition_model(month_2_model_version_0, stage=\"Staging\")\n",
    "month_2_model_version_1 = transition_model(month_2_model_version_1, stage=\"Staging\")\n",
    "month_2_model_version_2 = transition_model(month_2_model_version_2, stage=\"Staging\")\n",
    "month_2_model_version_3 = transition_model(month_2_model_version_3, stage=\"Staging\")"
   ]
  },
  {
   "cell_type": "code",
   "execution_count": 69,
   "id": "executed-bobby",
   "metadata": {},
   "outputs": [
    {
     "name": "stdout",
     "output_type": "stream",
     "text": [
      "time: 231 µs (started: 2021-06-09 22:34:27 +02:00)\n"
     ]
    }
   ],
   "source": [
    "####################################################################################\n",
    "\n",
    "# Run models through testing and validation prior to transitioning to Production\n",
    "\n",
    "####################################################################################"
   ]
  },
  {
   "cell_type": "code",
   "execution_count": 70,
   "id": "printable-charger",
   "metadata": {},
   "outputs": [
    {
     "name": "stdout",
     "output_type": "stream",
     "text": [
      "time: 63.1 ms (started: 2021-06-09 22:34:42 +02:00)\n"
     ]
    }
   ],
   "source": [
    "# Transition to Production\n",
    "month_2_model_version_0 = transition_model(month_2_model_version_0, stage=\"Production\")\n",
    "month_2_model_version_1 = transition_model(month_2_model_version_1, stage=\"Production\")\n",
    "month_2_model_version_2 = transition_model(month_2_model_version_2, stage=\"Production\")\n",
    "month_2_model_version_3 = transition_model(month_2_model_version_3, stage=\"Production\")"
   ]
  },
  {
   "cell_type": "markdown",
   "id": "practical-arnold",
   "metadata": {},
   "source": [
    "## Month 3"
   ]
  },
  {
   "cell_type": "code",
   "execution_count": 72,
   "id": "domestic-saint",
   "metadata": {},
   "outputs": [
    {
     "name": "stderr",
     "output_type": "stream",
     "text": [
      "/Users/alaa.bakhti/miniconda3/envs/dsp/lib/python3.7/site-packages/ipykernel/ipkernel.py:283: DeprecationWarning: `should_run_async` will not call `transform_cell` automatically in the future. Please pass the result to `transformed_cell` argument and any exception that happen during thetransform in `preprocessing_exc_tuple` in IPython 7.17 and above.\n",
      "  and should_run_async(code)\n",
      "2021/06/09 22:35:26 INFO mlflow.tracking.fluent: Autologging successfully enabled for sklearn.\n",
      "2021/06/09 22:35:27 INFO mlflow.tracking.fluent: Autologging successfully enabled for sklearn.\n",
      "2021/06/09 22:35:27 INFO mlflow.tracking.fluent: Autologging successfully enabled for sklearn.\n",
      "2021/06/09 22:35:27 INFO mlflow.tracking.fluent: Autologging successfully enabled for sklearn.\n",
      "2021/06/09 22:35:27 INFO mlflow.tracking.fluent: Autologging successfully enabled for sklearn.\n"
     ]
    },
    {
     "data": {
      "text/plain": [
       "[4.8293869776706515, 5.310079966819747, 4.967665792605043, 4.548094371150494]"
      ]
     },
     "execution_count": 72,
     "metadata": {},
     "output_type": "execute_result"
    },
    {
     "name": "stdout",
     "output_type": "stream",
     "text": [
      "time: 4.88 s (started: 2021-06-09 22:35:26 +02:00)\n"
     ]
    }
   ],
   "source": [
    "mapped_training(\"month_2\", df, month=2)"
   ]
  },
  {
   "cell_type": "code",
   "execution_count": 73,
   "id": "charged-aquarium",
   "metadata": {},
   "outputs": [
    {
     "name": "stderr",
     "output_type": "stream",
     "text": [
      "/Users/alaa.bakhti/miniconda3/envs/dsp/lib/python3.7/site-packages/ipykernel/ipkernel.py:283: DeprecationWarning: `should_run_async` will not call `transform_cell` automatically in the future. Please pass the result to `transformed_cell` argument and any exception that happen during thetransform in `preprocessing_exc_tuple` in IPython 7.17 and above.\n",
      "  and should_run_async(code)\n",
      "Registered model 'powerplant_device_0' already exists. Creating a new version of this model...\n",
      "2021/06/09 22:35:48 INFO mlflow.tracking._model_registry.client: Waiting up to 300 seconds for model version to finish creation.                     Model name: powerplant_device_0, version 4\n",
      "Created version '4' of model 'powerplant_device_0'.\n",
      "Registered model 'powerplant_device_1' already exists. Creating a new version of this model...\n",
      "2021/06/09 22:35:48 INFO mlflow.tracking._model_registry.client: Waiting up to 300 seconds for model version to finish creation.                     Model name: powerplant_device_1, version 3\n",
      "Created version '3' of model 'powerplant_device_1'.\n",
      "Registered model 'powerplant_device_2' already exists. Creating a new version of this model...\n",
      "2021/06/09 22:35:48 INFO mlflow.tracking._model_registry.client: Waiting up to 300 seconds for model version to finish creation.                     Model name: powerplant_device_2, version 3\n",
      "Created version '3' of model 'powerplant_device_2'.\n",
      "Registered model 'powerplant_device_3' already exists. Creating a new version of this model...\n",
      "2021/06/09 22:35:48 INFO mlflow.tracking._model_registry.client: Waiting up to 300 seconds for model version to finish creation.                     Model name: powerplant_device_3, version 3\n"
     ]
    },
    {
     "name": "stdout",
     "output_type": "stream",
     "text": [
      "time: 687 ms (started: 2021-06-09 22:35:48 +02:00)\n"
     ]
    },
    {
     "name": "stderr",
     "output_type": "stream",
     "text": [
      "Created version '3' of model 'powerplant_device_3'.\n"
     ]
    }
   ],
   "source": [
    "# Register\n",
    "month_3_model_version_0 = register_model_by_device_id(experiment_id, device_id=0)\n",
    "month_3_model_version_1 = register_model_by_device_id(experiment_id, device_id=1)\n",
    "month_3_model_version_2 = register_model_by_device_id(experiment_id, device_id=2)\n",
    "month_3_model_version_3 = register_model_by_device_id(experiment_id, device_id=3)"
   ]
  },
  {
   "cell_type": "code",
   "execution_count": 75,
   "id": "ambient-telling",
   "metadata": {},
   "outputs": [
    {
     "name": "stdout",
     "output_type": "stream",
     "text": [
      "time: 48.3 ms (started: 2021-06-09 22:35:57 +02:00)\n"
     ]
    }
   ],
   "source": [
    "# Transition to Staging\n",
    "month_3_model_version_0 = transition_model(month_3_model_version_0, stage=\"Staging\")\n",
    "month_3_model_version_1 = transition_model(month_3_model_version_1, stage=\"Staging\")\n",
    "month_3_model_version_2 = transition_model(month_3_model_version_2, stage=\"Staging\")\n",
    "month_3_model_version_3 = transition_model(month_3_model_version_3, stage=\"Staging\")"
   ]
  },
  {
   "cell_type": "code",
   "execution_count": 76,
   "id": "unlike-scholar",
   "metadata": {},
   "outputs": [
    {
     "name": "stdout",
     "output_type": "stream",
     "text": [
      "time: 188 µs (started: 2021-06-09 22:36:11 +02:00)\n"
     ]
    }
   ],
   "source": [
    "####################################################################################\n",
    "\n",
    "# Run models through testing and validation prior to transitioning to Production\n",
    "\n",
    "####################################################################################"
   ]
  },
  {
   "cell_type": "code",
   "execution_count": 77,
   "id": "front-lounge",
   "metadata": {},
   "outputs": [
    {
     "name": "stdout",
     "output_type": "stream",
     "text": [
      "time: 48.2 ms (started: 2021-06-09 22:36:24 +02:00)\n"
     ]
    }
   ],
   "source": [
    "# Transition to Production\n",
    "month_3_model_version_0 = transition_model(month_3_model_version_0, stage=\"Production\")\n",
    "month_3_model_version_1 = transition_model(month_3_model_version_1, stage=\"Production\")\n",
    "month_3_model_version_2 = transition_model(month_3_model_version_2, stage=\"Production\")\n",
    "month_3_model_version_3 = transition_model(month_3_model_version_3, stage=\"Production\")"
   ]
  },
  {
   "cell_type": "code",
   "execution_count": null,
   "id": "protective-october",
   "metadata": {},
   "outputs": [],
   "source": []
  },
  {
   "cell_type": "code",
   "execution_count": null,
   "id": "narrative-brazil",
   "metadata": {},
   "outputs": [],
   "source": []
  },
  {
   "cell_type": "markdown",
   "id": "cardiovascular-hardwood",
   "metadata": {},
   "source": [
    "## Metrics monitoring"
   ]
  },
  {
   "cell_type": "code",
   "execution_count": 64,
   "id": "appreciated-reason",
   "metadata": {},
   "outputs": [
    {
     "name": "stdout",
     "output_type": "stream",
     "text": [
      "time: 618 µs (started: 2021-06-09 22:30:34 +02:00)\n"
     ]
    }
   ],
   "source": [
    "def get_registered_model_runs(device_id, stage=\"Production\"):\n",
    "    \"\"\"\n",
    "    Get the original runs for a given device id, which have been registered to an original stage\n",
    "\n",
    "    Returns a list of mlflow.entities.Run objects corresponding to original runs\n",
    "    \"\"\"\n",
    "    client = MlflowClient()\n",
    "\n",
    "    registry_model_name = f\"powerplant_device_{device_id}\"\n",
    "    filter_string = f\"name='{registry_model_name}'\"\n",
    "    model_versions = client.search_model_versions(filter_string=filter_string)\n",
    "    prod_run_ids = [model_version.run_id for model_version in model_versions if model_version.current_stage==stage]\n",
    "    prod_original_runs = [client.get_run(run_id) for run_id in prod_run_ids]\n",
    "\n",
    "    return prod_original_runs"
   ]
  },
  {
   "cell_type": "code",
   "execution_count": 58,
   "id": "fabulous-meter",
   "metadata": {},
   "outputs": [
    {
     "name": "stdout",
     "output_type": "stream",
     "text": [
      "time: 756 µs (started: 2021-06-09 22:27:48 +02:00)\n"
     ]
    }
   ],
   "source": [
    "def get_metric_over_months_pdf(device_id, stage=\"Production\", metric=\"test_mse\"):\n",
    "    device_prod_runs = get_registered_model_runs(device_id, stage=stage)\n",
    "    \n",
    "    metrics = [run.data.metrics[metric] for run in device_prod_runs]\n",
    "    months = [run.data.params[\"month\"] for run in device_prod_runs]\n",
    "    metric_months_pdf = pd.DataFrame({\n",
    "        metric:metrics, \"month\":months, \"device_id\":[device_id]*len(metrics)\n",
    "    }).sort_values(\"month\")\n",
    "\n",
    "    return metric_months_pdf"
   ]
  },
  {
   "cell_type": "code",
   "execution_count": 61,
   "id": "governing-score",
   "metadata": {},
   "outputs": [
    {
     "data": {
      "text/html": [
       "<div>\n",
       "<style scoped>\n",
       "    .dataframe tbody tr th:only-of-type {\n",
       "        vertical-align: middle;\n",
       "    }\n",
       "\n",
       "    .dataframe tbody tr th {\n",
       "        vertical-align: top;\n",
       "    }\n",
       "\n",
       "    .dataframe thead th {\n",
       "        text-align: right;\n",
       "    }\n",
       "</style>\n",
       "<table border=\"1\" class=\"dataframe\">\n",
       "  <thead>\n",
       "    <tr style=\"text-align: right;\">\n",
       "      <th></th>\n",
       "      <th>test_mse</th>\n",
       "      <th>month</th>\n",
       "      <th>device_id</th>\n",
       "    </tr>\n",
       "  </thead>\n",
       "  <tbody>\n",
       "    <tr>\n",
       "      <th>0</th>\n",
       "      <td>4.864267</td>\n",
       "      <td>1</td>\n",
       "      <td>0</td>\n",
       "    </tr>\n",
       "    <tr>\n",
       "      <th>0</th>\n",
       "      <td>5.396214</td>\n",
       "      <td>1</td>\n",
       "      <td>1</td>\n",
       "    </tr>\n",
       "    <tr>\n",
       "      <th>0</th>\n",
       "      <td>5.011337</td>\n",
       "      <td>1</td>\n",
       "      <td>2</td>\n",
       "    </tr>\n",
       "    <tr>\n",
       "      <th>0</th>\n",
       "      <td>4.544763</td>\n",
       "      <td>1</td>\n",
       "      <td>3</td>\n",
       "    </tr>\n",
       "  </tbody>\n",
       "</table>\n",
       "</div>"
      ],
      "text/plain": [
       "   test_mse month  device_id\n",
       "0  4.864267     1          0\n",
       "0  5.396214     1          1\n",
       "0  5.011337     1          2\n",
       "0  4.544763     1          3"
      ]
     },
     "execution_count": 61,
     "metadata": {},
     "output_type": "execute_result"
    },
    {
     "name": "stdout",
     "output_type": "stream",
     "text": [
      "time: 127 ms (started: 2021-06-09 22:29:15 +02:00)\n"
     ]
    }
   ],
   "source": [
    "metric_over_months_pdf = pd.concat([\n",
    "    get_metric_over_months_pdf(device_id, metric=\"test_mse\") for device_id in range(4)\n",
    "])\n",
    "metric_over_months_pdf"
   ]
  },
  {
   "cell_type": "code",
   "execution_count": 62,
   "id": "formal-crazy",
   "metadata": {},
   "outputs": [
    {
     "name": "stdout",
     "output_type": "stream",
     "text": [
      "time: 601 µs (started: 2021-06-09 22:30:05 +02:00)\n"
     ]
    },
    {
     "name": "stderr",
     "output_type": "stream",
     "text": [
      "/Users/alaa.bakhti/miniconda3/envs/dsp/lib/python3.7/site-packages/ipykernel/ipkernel.py:283: DeprecationWarning: `should_run_async` will not call `transform_cell` automatically in the future. Please pass the result to `transformed_cell` argument and any exception that happen during thetransform in `preprocessing_exc_tuple` in IPython 7.17 and above.\n",
      "  and should_run_async(code)\n"
     ]
    }
   ],
   "source": [
    "def plot_metric_over_months(device_prod_runs, metric=\"test_mse\"):\n",
    "    \"\"\"\n",
    "    Return figure\n",
    "    \"\"\"\n",
    "    metrics = [run.data.metrics[metric] for run in device_prod_runs]\n",
    "    months = [run.data.params[\"month\"] for run in device_prod_runs]\n",
    "    metric_months_pdf = pd.DataFrame({metric:metrics, \"month\":months}).sort_values(\"month\")\n",
    "\n",
    "    return metric_months_pdf.plot.line(x=\"month\", y=metric)"
   ]
  },
  {
   "cell_type": "code",
   "execution_count": 78,
   "id": "demanding-johnson",
   "metadata": {},
   "outputs": [
    {
     "data": {
      "image/png": "[encoded data removed]",
      "text/plain": [
       "<Figure size 720x504 with 1 Axes>"
      ]
     },
     "metadata": {
      "needs_background": "light"
     },
     "output_type": "display_data"
    },
    {
     "name": "stdout",
     "output_type": "stream",
     "text": [
      "time: 211 ms (started: 2021-06-09 22:36:35 +02:00)\n"
     ]
    }
   ],
   "source": [
    "device_id = 0\n",
    "stage = \"Production\"\n",
    "metric = \"test_mse\"\n",
    "\n",
    "device_prod_runs = get_registered_model_runs(device_id, stage=stage)\n",
    "fig = plot_metric_over_months(device_prod_runs, metric=metric)"
   ]
  },
  {
   "cell_type": "code",
   "execution_count": null,
   "id": "designing-equipment",
   "metadata": {},
   "outputs": [],
   "source": []
  }
 ],
 "metadata": {
  "kernelspec": {
   "display_name": "Python 3",
   "language": "python",
   "name": "python3"
  },
  "language_info": {
   "codemirror_mode": {
    "name": "ipython",
    "version": 3
   },
   "file_extension": ".py",
   "mimetype": "text/x-python",
   "name": "python",
   "nbconvert_exporter": "python",
   "pygments_lexer": "ipython3",
   "version": "3.7.9"
  },
  "toc": {
   "base_numbering": 1,
   "nav_menu": {},
   "number_sections": true,
   "sideBar": true,
   "skip_h1_title": false,
   "title_cell": "Table of Contents",
   "title_sidebar": "Contents",
   "toc_cell": false,
   "toc_position": {},
   "toc_section_display": true,
   "toc_window_display": false
  }
 },
 "nbformat": 4,
 "nbformat_minor": 5
}
