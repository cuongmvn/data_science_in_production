{
 "cells": [
  {
   "cell_type": "markdown",
   "id": "accompanied-entertainment",
   "metadata": {},
   "source": [
    "Inspired by: https://docs.databricks.com/_static/notebooks/mlflow/mlflow-quick-start-training.html\n",
    "\n",
    "# TODO\n",
    "- What to log\n",
    "    - model name\n",
    "    - model hyper-prameters\n",
    "    - model features\n",
    "    - performances\n",
    "- Model\n",
    "    - Save\n",
    "    - Load\n",
    "- Create experiments\n",
    "- Search run for a given experiment with SQL query - https://docs.faculty.ai/user-guide/experiments/index.html#experiments-multiple\n",
    "- Create runs\n",
    "- Shared DB for mlflow -> check https://github.com/dmatrix/mlflow-tests/tree/master/py/mlflow/server\n"
   ]
  },
  {
   "cell_type": "markdown",
   "id": "contrary-union",
   "metadata": {},
   "source": [
    "# Doc"
   ]
  },
  {
   "cell_type": "markdown",
   "id": "grand-mercury",
   "metadata": {},
   "source": [
    "## MLflow Tracking\n",
    "documentation > https://www.mlflow.org/docs/latest/tracking.html\n",
    "\n",
    "- Can be used to to track experiments to record and compare parameters and results.\n",
    "\n",
    "**Vocabulary**\n",
    "- *run*: corresponds to a single execution of model training code. Each run can record different informations (model parameters, metrics, tags, artifacts, etc).\n",
    "- *experiment*: the primary unit of organization and access control for MLflow runs; all MLflow runs belong to an experiment. Experiments let you visualize, search for, and compare runs, as well as download run artifacts and metadata for analysis in other tools.\n",
    "- *MLflow entities*: runs, parameters, metrics, tags, notes, metadata, etc\n",
    "- ...\n",
    "\n",
    "**What can be recorded by an MLflow run?** > https://www.mlflow.org/docs/latest/tracking.html#concepts\n",
    "\n",
    "**Where runs are recorded?** > https://www.mlflow.org/docs/latest/tracking.html#where-runs-are-recorded\n",
    "\n",
    "They can be recorded\n",
    "- to local files (by default to *mlruns* directory)\n",
    "    - `mlflow ui`\n",
    "- to SQLAlchemy compatible database\n",
    "    - `mlflow.set_tracking_uri('sqlite:///mlflow.db')`\n",
    "    - `mlflow ui --backend-store-uri sqlite:///mlflow.db`\n",
    "- remotely to a tracking server\n",
    "\n",
    "To show the current tracking uri `mlflow.get_tracking_uri()`\n",
    "    \n",
    "**How they are recorded** > https://www.mlflow.org/docs/latest/tracking.html#how-runs-and-artifacts-are-recorded\n",
    "\n",
    "MLflow uses two components for storage:\n",
    "- backend store: for MLflow entities (runs, parameters, metrics, tags, notes, metadata, etc)\n",
    "- artifact store: for artifacts (files, models, images, in-memory objects, or model summary, etc)\n",
    "\n",
    "**How to vizualise the logged runs?**\n",
    "- You can use the MLflow tracking ui `mlflow ui` (should be run from the folder where the *mlruns* directory is located)\n",
    "\n",
    "### Logging\n",
    "\n",
    "**What to log**\n",
    "\n",
    "\n",
    "**How**\n",
    "- Manual logging > https://www.mlflow.org/docs/latest/tracking.html#logging-functions\n",
    "    - Log the fitted model: `mlflow.sklearn.log_model(rf, 'random-forest-model')`\n",
    "    - Log the model parameters:\n",
    "        - One parameter at a time: `mlflow.log_param('num_trees', n_estimators)`\n",
    "        - A dict of parameters: `mlflow.log_parms({'num_trees', n_estimators, 'alpha', 0.04})`\n",
    "    - Log the evaluation metrics: `mlflow.log_metric('mse', mse)`\n",
    "    - Log other artifacts: `mlflow.log_artifact('predictions.csv')`\n",
    "\n",
    "- Automatic logging with MLflow autolog\n",
    "    - With MLflow's autologging capabilities, a single line of code automatically logs the resulting model, the parameters used to create the model, and a model score > https://www.mlflow.org/docs/latest/tracking.html#automatic-logging\n",
    "    - Call `mlflow.<framework>.autolog()` API before running training code to log model-specific metrics, parameters, and model artifacts. Supports many ML frameworks (sklearn, tensorflow, etc).\n",
    "\n",
    "### Experiments\n",
    "**How to set an experiment?**\n",
    "\n",
    "- with "
   ]
  },
  {
   "cell_type": "code",
   "execution_count": 26,
   "id": "heavy-amateur",
   "metadata": {},
   "outputs": [
    {
     "name": "stderr",
     "output_type": "stream",
     "text": [
      "/Users/alaa.bakhti/miniconda3/envs/dsp/lib/python3.7/site-packages/ipykernel/ipkernel.py:283: DeprecationWarning: `should_run_async` will not call `transform_cell` automatically in the future. Please pass the result to `transformed_cell` argument and any exception that happen during thetransform in `preprocessing_exc_tuple` in IPython 7.17 and above.\n",
      "  and should_run_async(code)\n"
     ]
    }
   ],
   "source": [
    "import numpy as np\n",
    "import pandas as pd\n",
    "import mlflow\n",
    "\n",
    "from sklearn.linear_model import ElasticNet\n",
    "from sklearn.ensemble import RandomForestRegressor"
   ]
  },
  {
   "cell_type": "markdown",
   "id": "blank-christianity",
   "metadata": {},
   "source": [
    "# Step 1: basic pipeline"
   ]
  },
  {
   "cell_type": "markdown",
   "id": "latter-adolescent",
   "metadata": {},
   "source": [
    "- Load dataset"
   ]
  },
  {
   "cell_type": "code",
   "execution_count": 21,
   "id": "interested-electric",
   "metadata": {},
   "outputs": [
    {
     "data": {
      "text/plain": [
       "((331, 10), (111, 10))"
      ]
     },
     "execution_count": 21,
     "metadata": {},
     "output_type": "execute_result"
    }
   ],
   "source": [
    "from sklearn.datasets import load_diabetes\n",
    "from sklearn.model_selection import train_test_split\n",
    "\n",
    "def get_dataset() -> pd.DataFrame:\n",
    "    db = load_diabetes()\n",
    "    X, y = db.data, db.target\n",
    "    return train_test_split(X, y, random_state=42)\n",
    "\n",
    "X_train, X_test, y_train, y_test = get_dataset()\n",
    "X_train.shape, X_test.shape"
   ]
  },
  {
   "cell_type": "markdown",
   "id": "amazing-doubt",
   "metadata": {},
   "source": [
    "- Train model"
   ]
  },
  {
   "cell_type": "code",
   "execution_count": 23,
   "id": "stuck-defendant",
   "metadata": {},
   "outputs": [],
   "source": [
    "from sklearn.metrics import mean_squared_error, mean_absolute_error, r2_score\n",
    "\n",
    "def evaluate_model(model, X_test, y_test):\n",
    "    y_pred = model.predict(X_test)\n",
    "    \n",
    "    rmse = np.sqrt(mean_squared_error(y_test, y_pred))\n",
    "    mae = mean_absolute_error(y_test, y_pred)\n",
    "    r2 = r2_score(y_test, y_pred)\n",
    "    print(f'RMSE = {rmse:.2f}, MAE = {mae:.2f}, R2 = {r2:.2f}')\n",
    "    return rmse, mae, r2\n",
    "\n",
    "def train_model(X_train, X_test, y_train, y_test: pd.DataFrame, model_class, **model_kwargs) -> int:\n",
    "    model = model_class(**model_kwargs)\n",
    "    model.fit(X_train, y_train)\n",
    "    evaluate_model(model, X_test, y_test)"
   ]
  },
  {
   "cell_type": "code",
   "execution_count": 24,
   "id": "northern-disco",
   "metadata": {},
   "outputs": [
    {
     "name": "stderr",
     "output_type": "stream",
     "text": [
      "/Users/alaa.bakhti/miniconda3/envs/dsp/lib/python3.7/site-packages/ipykernel/ipkernel.py:283: DeprecationWarning: `should_run_async` will not call `transform_cell` automatically in the future. Please pass the result to `transformed_cell` argument and any exception that happen during thetransform in `preprocessing_exc_tuple` in IPython 7.17 and above.\n",
      "  and should_run_async(code)\n"
     ]
    },
    {
     "name": "stdout",
     "output_type": "stream",
     "text": [
      "RMSE = 55.11, MAE = 45.22, R2 = 0.45\n"
     ]
    }
   ],
   "source": [
    "model_kwargs = {'alpha': 0.01, 'l1_ratio': 0.75}\n",
    "train_model(X_train, X_test, y_train, y_test, ElasticNet, **model_kwargs)"
   ]
  },
  {
   "cell_type": "code",
   "execution_count": 25,
   "id": "incredible-conversion",
   "metadata": {},
   "outputs": [
    {
     "name": "stderr",
     "output_type": "stream",
     "text": [
      "/Users/alaa.bakhti/miniconda3/envs/dsp/lib/python3.7/site-packages/ipykernel/ipkernel.py:283: DeprecationWarning: `should_run_async` will not call `transform_cell` automatically in the future. Please pass the result to `transformed_cell` argument and any exception that happen during thetransform in `preprocessing_exc_tuple` in IPython 7.17 and above.\n",
      "  and should_run_async(code)\n"
     ]
    },
    {
     "name": "stdout",
     "output_type": "stream",
     "text": [
      "RMSE = 66.21, MAE = 57.36, R2 = 0.21\n"
     ]
    }
   ],
   "source": [
    "model_kwargs = {'alpha': 0.04, 'l1_ratio': 0.5}\n",
    "train_model(X_train, X_test, y_train, y_test, ElasticNet, **model_kwargs)"
   ]
  },
  {
   "cell_type": "markdown",
   "id": "outdoor-perry",
   "metadata": {},
   "source": [
    "# Step 2:"
   ]
  },
  {
   "cell_type": "code",
   "execution_count": null,
   "id": "selected-chrome",
   "metadata": {},
   "outputs": [],
   "source": [
    "from sklearn.metrics import mean_squared_error, mean_absolute_error, r2_score\n",
    "\n",
    "def evaluate_model(model, X_test, y_test):\n",
    "    y_pred = model.predict(X_test)\n",
    "    \n",
    "    rmse = np.sqrt(mean_squared_error(y_test, y_pred))\n",
    "    mae = mean_absolute_error(y_test, y_pred)\n",
    "    r2 = r2_score(y_test, y_pred)\n",
    "    mlflow.log_metric('rmse', rmse)\n",
    "    mlflow.log_metric('mae', mae)\n",
    "    mlflow.log_metric('r2', r2)\n",
    "    print(f'RMSE = {rmse:.2f}, MAE = {mae:.2f}, R2 = {r2:.2f}')\n",
    "    return rmse, mae, r2\n",
    "\n",
    "def train_model(X_train, X_test, y_train, y_test: pd.DataFrame, model_class, **model_kwargs) -> int:\n",
    "    model = model_class(**model_kwargs)\n",
    "    model.fit(X_train, y_train)\n",
    "    for hyper_parameter, value in model_kwargs:\n",
    "        mlflow.log_param(hyper_parameter, value)\n",
    "    # Or better: mlflow.log_params(model_kwargs)\n",
    "    mlflow.sklearn.log_model(model, \"model\")\n",
    "    evaluate_model(model, X_test, y_test)"
   ]
  },
  {
   "cell_type": "code",
   "execution_count": null,
   "id": "vietnamese-blogger",
   "metadata": {},
   "outputs": [],
   "source": []
  },
  {
   "cell_type": "code",
   "execution_count": 27,
   "id": "virgin-happening",
   "metadata": {},
   "outputs": [
    {
     "name": "stderr",
     "output_type": "stream",
     "text": [
      "/Users/alaa.bakhti/miniconda3/envs/dsp/lib/python3.7/site-packages/ipykernel/ipkernel.py:283: DeprecationWarning: `should_run_async` will not call `transform_cell` automatically in the future. Please pass the result to `transformed_cell` argument and any exception that happen during thetransform in `preprocessing_exc_tuple` in IPython 7.17 and above.\n",
      "  and should_run_async(code)\n"
     ]
    },
    {
     "name": "stdout",
     "output_type": "stream",
     "text": [
      "RMSE = 55.11, MAE = 45.22, R2 = 0.45\n",
      "RMSE = 66.21, MAE = 57.36, R2 = 0.21\n"
     ]
    }
   ],
   "source": [
    "hyper_parameters_list = [\n",
    "    {'alpha': 0.01, 'l1_ratio': 0.75},\n",
    "    {'alpha': 0.04, 'l1_ratio': 0.5}\n",
    "]\n",
    "\n",
    "for model_hyper_parameters_dict in hyper_parameters_list:\n",
    "    train_model(X_train, X_test, y_train, y_test, ElasticNet, **model_hyper_parameters_dict)"
   ]
  },
  {
   "cell_type": "code",
   "execution_count": null,
   "id": "academic-static",
   "metadata": {},
   "outputs": [],
   "source": []
  },
  {
   "cell_type": "code",
   "execution_count": 6,
   "id": "naughty-prospect",
   "metadata": {},
   "outputs": [],
   "source": [
    "model_dict_list = [\n",
    "    {'model_class' : ElasticNet, 'model_kwargs': {'alpha': 0.01, 'l1_ratio': 0.75}},\n",
    "    {'model_class' : RandomForestRegressor, 'model_kwargs': {'n_estimators': 100, 'max_depth': 6, 'max_features': 3}}\n",
    "]\n",
    "# train_model(X_train, X_test, y_train, y_test, model_dict['model_class'], **model_dict['model_kwargs'])"
   ]
  },
  {
   "cell_type": "markdown",
   "id": "funky-heather",
   "metadata": {},
   "source": [
    "# Mlflow"
   ]
  },
  {
   "cell_type": "code",
   "execution_count": 17,
   "id": "rubber-degree",
   "metadata": {
    "scrolled": false
   },
   "outputs": [
    {
     "name": "stderr",
     "output_type": "stream",
     "text": [
      "/Users/alaa.bakhti/miniconda3/envs/dsp/lib/python3.7/site-packages/ipykernel/ipkernel.py:283: DeprecationWarning: `should_run_async` will not call `transform_cell` automatically in the future. Please pass the result to `transformed_cell` argument and any exception that happen during thetransform in `preprocessing_exc_tuple` in IPython 7.17 and above.\n",
      "  and should_run_async(code)\n"
     ]
    }
   ],
   "source": [
    "#mlflow_backend_store_sqlite_db_uri = 'sqlite:////tmp/mlruns.db'\n",
    "#mlflow.set_tracking_uri(mlflow_backend_store_sqlite_db_uri)\n",
    "\n",
    "\"\"\"\n",
    "Using sqlite:///<path>/mlruns.db for backend store and /tmp/mlruns for artifact store\n",
    "Run mlflow server with:\n",
    "mlflow server --backend-store-uri sqlite:////tmp/mlruns.db --default-artifact-root /tmp/mlruns\n",
    "\"\"\"\n",
    "mlflow.set_tracking_uri('http://127.0.0.1:5000')"
   ]
  },
  {
   "cell_type": "code",
   "execution_count": 16,
   "id": "powerful-debut",
   "metadata": {},
   "outputs": [
    {
     "name": "stderr",
     "output_type": "stream",
     "text": [
      "/Users/alaa.bakhti/miniconda3/envs/dsp/lib/python3.7/site-packages/ipykernel/ipkernel.py:283: DeprecationWarning: `should_run_async` will not call `transform_cell` automatically in the future. Please pass the result to `transformed_cell` argument and any exception that happen during thetransform in `preprocessing_exc_tuple` in IPython 7.17 and above.\n",
      "  and should_run_async(code)\n"
     ]
    },
    {
     "name": "stdout",
     "output_type": "stream",
     "text": [
      "RMSE = 55.11, MAE = 45.22, R2 = 0.45\n",
      "RMSE = 52.95, MAE = 42.83, R2 = 0.49\n",
      "RMSE = 55.11, MAE = 45.22, R2 = 0.45\n",
      "RMSE = 52.51, MAE = 42.41, R2 = 0.50\n",
      "RMSE = 55.11, MAE = 45.22, R2 = 0.45\n",
      "RMSE = 53.59, MAE = 42.52, R2 = 0.48\n",
      "RMSE = 55.11, MAE = 45.22, R2 = 0.45\n",
      "RMSE = 52.71, MAE = 42.39, R2 = 0.50\n",
      "RMSE = 55.11, MAE = 45.22, R2 = 0.45\n",
      "RMSE = 52.67, MAE = 42.10, R2 = 0.50\n"
     ]
    }
   ],
   "source": [
    "mlflow.sklearn.autolog()\n",
    "\n",
    "#mlflow.set_experiment('my_experiment 1')\n",
    "\n",
    "for i in range(5):\n",
    "    for model_dict in model_dict_list:\n",
    "        with mlflow.start_run():\n",
    "            train_model(X_train, X_test, y_train, y_test, model_dict['model_class'], **model_dict['model_kwargs'])"
   ]
  },
  {
   "cell_type": "code",
   "execution_count": 20,
   "id": "flying-central",
   "metadata": {},
   "outputs": [
    {
     "name": "stdout",
     "output_type": "stream",
     "text": [
      "mflow.ipynb      mlflow-old.ipynb mlflow.db        \u001b[1m\u001b[36mmlruns\u001b[m\u001b[m\r\n"
     ]
    },
    {
     "name": "stderr",
     "output_type": "stream",
     "text": [
      "/Users/alaa.bakhti/miniconda3/envs/dsp/lib/python3.7/site-packages/ipykernel/ipkernel.py:283: DeprecationWarning: `should_run_async` will not call `transform_cell` automatically in the future. Please pass the result to `transformed_cell` argument and any exception that happen during thetransform in `preprocessing_exc_tuple` in IPython 7.17 and above.\n",
      "  and should_run_async(code)\n"
     ]
    }
   ],
   "source": [
    "!ls"
   ]
  },
  {
   "cell_type": "code",
   "execution_count": 8,
   "id": "composed-jumping",
   "metadata": {},
   "outputs": [
    {
     "name": "stderr",
     "output_type": "stream",
     "text": [
      "/Users/alaa.bakhti/miniconda3/envs/dsp/lib/python3.7/site-packages/ipykernel/ipkernel.py:283: DeprecationWarning: `should_run_async` will not call `transform_cell` automatically in the future. Please pass the result to `transformed_cell` argument and any exception that happen during thetransform in `preprocessing_exc_tuple` in IPython 7.17 and above.\n",
      "  and should_run_async(code)\n"
     ]
    },
    {
     "data": {
      "text/html": [
       "<div>\n",
       "<style scoped>\n",
       "    .dataframe tbody tr th:only-of-type {\n",
       "        vertical-align: middle;\n",
       "    }\n",
       "\n",
       "    .dataframe tbody tr th {\n",
       "        vertical-align: top;\n",
       "    }\n",
       "\n",
       "    .dataframe thead th {\n",
       "        text-align: right;\n",
       "    }\n",
       "</style>\n",
       "<table border=\"1\" class=\"dataframe\">\n",
       "  <thead>\n",
       "    <tr style=\"text-align: right;\">\n",
       "      <th></th>\n",
       "      <th>run_id</th>\n",
       "      <th>experiment_id</th>\n",
       "      <th>status</th>\n",
       "      <th>artifact_uri</th>\n",
       "      <th>start_time</th>\n",
       "      <th>end_time</th>\n",
       "      <th>metrics.training_score</th>\n",
       "      <th>metrics.training_mae</th>\n",
       "      <th>metrics.training_r2_score</th>\n",
       "      <th>metrics.training_mse</th>\n",
       "      <th>...</th>\n",
       "      <th>params.min_impurity_decrease</th>\n",
       "      <th>params.warm_start</th>\n",
       "      <th>params.max_samples</th>\n",
       "      <th>params.criterion</th>\n",
       "      <th>tags.estimator_class</th>\n",
       "      <th>tags.mlflow.user</th>\n",
       "      <th>tags.mlflow.log-model.history</th>\n",
       "      <th>tags.mlflow.source.type</th>\n",
       "      <th>tags.estimator_name</th>\n",
       "      <th>tags.mlflow.source.name</th>\n",
       "    </tr>\n",
       "  </thead>\n",
       "  <tbody>\n",
       "    <tr>\n",
       "      <th>0</th>\n",
       "      <td>641d9f9708b14bc69f3d3776d7c230a3</td>\n",
       "      <td>2</td>\n",
       "      <td>FINISHED</td>\n",
       "      <td>./mlruns/2/641d9f9708b14bc69f3d3776d7c230a3/ar...</td>\n",
       "      <td>2021-05-20 12:43:38.187000+00:00</td>\n",
       "      <td>2021-05-20 12:43:38.850000+00:00</td>\n",
       "      <td>0.790369</td>\n",
       "      <td>29.658545</td>\n",
       "      <td>0.790369</td>\n",
       "      <td>1260.867872</td>\n",
       "      <td>...</td>\n",
       "      <td>0.0</td>\n",
       "      <td>False</td>\n",
       "      <td>None</td>\n",
       "      <td>mse</td>\n",
       "      <td>sklearn.ensemble._forest.RandomForestRegressor</td>\n",
       "      <td>alaa.bakhti</td>\n",
       "      <td>[{\"run_id\": \"641d9f9708b14bc69f3d3776d7c230a3\"...</td>\n",
       "      <td>LOCAL</td>\n",
       "      <td>RandomForestRegressor</td>\n",
       "      <td>/Users/alaa.bakhti/miniconda3/envs/dsp/lib/pyt...</td>\n",
       "    </tr>\n",
       "    <tr>\n",
       "      <th>1</th>\n",
       "      <td>67cf7cf4c4a34b618c566b0d951bf094</td>\n",
       "      <td>2</td>\n",
       "      <td>FINISHED</td>\n",
       "      <td>./mlruns/2/67cf7cf4c4a34b618c566b0d951bf094/ar...</td>\n",
       "      <td>2021-05-12 23:54:31.977000+00:00</td>\n",
       "      <td>2021-05-12 23:54:32.474000+00:00</td>\n",
       "      <td>0.781430</td>\n",
       "      <td>29.775595</td>\n",
       "      <td>0.781430</td>\n",
       "      <td>1270.739478</td>\n",
       "      <td>...</td>\n",
       "      <td>0.0</td>\n",
       "      <td>False</td>\n",
       "      <td>None</td>\n",
       "      <td>mse</td>\n",
       "      <td>sklearn.ensemble._forest.RandomForestRegressor</td>\n",
       "      <td>alaa.bakhti</td>\n",
       "      <td>[{\"run_id\": \"67cf7cf4c4a34b618c566b0d951bf094\"...</td>\n",
       "      <td>LOCAL</td>\n",
       "      <td>RandomForestRegressor</td>\n",
       "      <td>/Users/alaa.bakhti/miniconda3/envs/dsp/lib/pyt...</td>\n",
       "    </tr>\n",
       "  </tbody>\n",
       "</table>\n",
       "<p>2 rows × 35 columns</p>\n",
       "</div>"
      ],
      "text/plain": [
       "                             run_id experiment_id    status  \\\n",
       "0  641d9f9708b14bc69f3d3776d7c230a3             2  FINISHED   \n",
       "1  67cf7cf4c4a34b618c566b0d951bf094             2  FINISHED   \n",
       "\n",
       "                                        artifact_uri  \\\n",
       "0  ./mlruns/2/641d9f9708b14bc69f3d3776d7c230a3/ar...   \n",
       "1  ./mlruns/2/67cf7cf4c4a34b618c566b0d951bf094/ar...   \n",
       "\n",
       "                        start_time                         end_time  \\\n",
       "0 2021-05-20 12:43:38.187000+00:00 2021-05-20 12:43:38.850000+00:00   \n",
       "1 2021-05-12 23:54:31.977000+00:00 2021-05-12 23:54:32.474000+00:00   \n",
       "\n",
       "   metrics.training_score  metrics.training_mae  metrics.training_r2_score  \\\n",
       "0                0.790369             29.658545                   0.790369   \n",
       "1                0.781430             29.775595                   0.781430   \n",
       "\n",
       "   metrics.training_mse  ...  params.min_impurity_decrease params.warm_start  \\\n",
       "0           1260.867872  ...                           0.0             False   \n",
       "1           1270.739478  ...                           0.0             False   \n",
       "\n",
       "  params.max_samples params.criterion  \\\n",
       "0               None              mse   \n",
       "1               None              mse   \n",
       "\n",
       "                             tags.estimator_class tags.mlflow.user  \\\n",
       "0  sklearn.ensemble._forest.RandomForestRegressor      alaa.bakhti   \n",
       "1  sklearn.ensemble._forest.RandomForestRegressor      alaa.bakhti   \n",
       "\n",
       "                       tags.mlflow.log-model.history tags.mlflow.source.type  \\\n",
       "0  [{\"run_id\": \"641d9f9708b14bc69f3d3776d7c230a3\"...                   LOCAL   \n",
       "1  [{\"run_id\": \"67cf7cf4c4a34b618c566b0d951bf094\"...                   LOCAL   \n",
       "\n",
       "     tags.estimator_name                            tags.mlflow.source.name  \n",
       "0  RandomForestRegressor  /Users/alaa.bakhti/miniconda3/envs/dsp/lib/pyt...  \n",
       "1  RandomForestRegressor  /Users/alaa.bakhti/miniconda3/envs/dsp/lib/pyt...  \n",
       "\n",
       "[2 rows x 35 columns]"
      ]
     },
     "execution_count": 8,
     "metadata": {},
     "output_type": "execute_result"
    }
   ],
   "source": [
    "mlflow.search_runs(filter_string=\"metric.training_mae < 30\")"
   ]
  }
 ],
 "metadata": {
  "kernelspec": {
   "display_name": "Python 3",
   "language": "python",
   "name": "python3"
  },
  "language_info": {
   "codemirror_mode": {
    "name": "ipython",
    "version": 3
   },
   "file_extension": ".py",
   "mimetype": "text/x-python",
   "name": "python",
   "nbconvert_exporter": "python",
   "pygments_lexer": "ipython3",
   "version": "3.7.9"
  },
  "toc": {
   "base_numbering": 1,
   "nav_menu": {},
   "number_sections": true,
   "sideBar": true,
   "skip_h1_title": false,
   "title_cell": "Table of Contents",
   "title_sidebar": "Contents",
   "toc_cell": false,
   "toc_position": {},
   "toc_section_display": true,
   "toc_window_display": false
  }
 },
 "nbformat": 4,
 "nbformat_minor": 5
}
