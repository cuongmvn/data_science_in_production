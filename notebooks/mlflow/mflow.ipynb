{
 "cells": [
  {
   "cell_type": "markdown",
   "id": "accompanied-entertainment",
   "metadata": {},
   "source": [
    "- What to log\n",
    "    - model name\n",
    "    - model hyper-prameters\n",
    "    - model features\n",
    "    - performances\n",
    "- Model\n",
    "    - Save\n",
    "    - Load\n",
    "- Create experiments\n",
    "- Search run for a given experiment with SQL query - https://docs.faculty.ai/user-guide/experiments/index.html#experiments-multiple\n",
    "- Create runs\n"
   ]
  },
  {
   "cell_type": "markdown",
   "id": "contrary-union",
   "metadata": {},
   "source": [
    "# Doc"
   ]
  },
  {
   "cell_type": "markdown",
   "id": "grand-mercury",
   "metadata": {},
   "source": [
    "## MLflow Tracking\n",
    "documentation > https://www.mlflow.org/docs/latest/tracking.html\n",
    "\n",
    "**Vocabulary**\n",
    "- *run*: An MLflow run is a collection of parameters, metrics, tags, and artifacts associated with a machine learning model training process.\n",
    "- *experiment*: Experiments are the primary unit of organization in MLflow; all MLflow runs belong to an experiment. Each experiment lets you visualize, search, and compare runs, as well as download run artifacts or metadata for analysis in other tools.\n",
    "- *MLflow entities*: runs, parameters, metrics, tags, notes, metadata, etc\n",
    "- ...\n",
    "\n",
    "**What can be recorded by an MLflow run?** > https://www.mlflow.org/docs/latest/tracking.html#concepts\n",
    "\n",
    "**Where runs are recorded?** > https://www.mlflow.org/docs/latest/tracking.html#where-runs-are-recorded\n",
    "\n",
    "They can be recorded\n",
    "- to local files (by default to *mlruns* directory)\n",
    "    - `mlflow ui`\n",
    "- to SQLAlchemy compatible database\n",
    "    - `mlflow.set_tracking_uri('sqlite:///mlflow.db')`\n",
    "    - `mlflow ui --backend-store-uri sqlite:///mlflow.db`\n",
    "- remotely to a tracking server\n",
    "\n",
    "To show the current tracking uri `mlflow.get_tracking_uri()`\n",
    "    \n",
    "**How they are recorded** > https://www.mlflow.org/docs/latest/tracking.html#how-runs-and-artifacts-are-recorded\n",
    "\n",
    "MLflow uses two components for storage:\n",
    "- backend store: for MLflow entities (runs, parameters, metrics, tags, notes, metadata, etc)\n",
    "- artifact store: for artifacts (files, models, images, in-memory objects, or model summary, etc)\n",
    "\n",
    "**How to vizualise the logged runs?**\n",
    "- You can use the MLflow tracking ui `mlflow ui` (should be run from the folder where the *mlruns* directory is located)\n",
    "\n",
    "### Logging\n",
    "\n",
    "**What to log**\n",
    "\n",
    "\n",
    "**How**\n",
    "- Manual logging\n",
    "    - Log the fitted model: `mlflow.sklearn.log_model(rf, 'random-forest-model')`\n",
    "    - Log the model parameters: `mlflow.log_param('num_trees', n_estimators)`\n",
    "    - Log the evaluation metrics: `mlflow.log_metric('mse', mse)`\n",
    "    - Log other artifacts: `mlflow.log_artifact('predictions.csv')`\n",
    "\n",
    "- Automatic logging with MLflow autolog\n",
    "    - With MLflow's autologging capabilities, a single line of code automatically logs the resulting model, the parameters used to create the model, and a model score > https://www.mlflow.org/docs/latest/tracking.html#automatic-logging\n",
    "    - Call mlflow.<framework>.autolog() API before running training code to log model-specific metrics, parameters, and model artifacts. Supports many ML frameworks (sklearn, tensorflow, etc).\n",
    "\n",
    "### Other\n"
   ]
  },
  {
   "cell_type": "markdown",
   "id": "subject-response",
   "metadata": {},
   "source": [
    "# Code"
   ]
  },
  {
   "cell_type": "code",
   "execution_count": 4,
   "id": "heavy-amateur",
   "metadata": {},
   "outputs": [
    {
     "name": "stderr",
     "output_type": "stream",
     "text": [
      "/Users/alaa.bakhti/miniconda3/envs/dsp/lib/python3.7/site-packages/ipykernel/ipkernel.py:283: DeprecationWarning: `should_run_async` will not call `transform_cell` automatically in the future. Please pass the result to `transformed_cell` argument and any exception that happen during thetransform in `preprocessing_exc_tuple` in IPython 7.17 and above.\n",
      "  and should_run_async(code)\n"
     ]
    }
   ],
   "source": [
    "import numpy as np\n",
    "import pandas as pd\n",
    "import mlflow"
   ]
  },
  {
   "cell_type": "markdown",
   "id": "blank-christianity",
   "metadata": {},
   "source": [
    "# First pipeline"
   ]
  },
  {
   "cell_type": "markdown",
   "id": "latter-adolescent",
   "metadata": {},
   "source": [
    "## Load dataset"
   ]
  },
  {
   "cell_type": "code",
   "execution_count": 24,
   "id": "interested-electric",
   "metadata": {},
   "outputs": [
    {
     "name": "stderr",
     "output_type": "stream",
     "text": [
      "/Users/alaa.bakhti/miniconda3/envs/dsp/lib/python3.7/site-packages/ipykernel/ipkernel.py:283: DeprecationWarning: `should_run_async` will not call `transform_cell` automatically in the future. Please pass the result to `transformed_cell` argument and any exception that happen during thetransform in `preprocessing_exc_tuple` in IPython 7.17 and above.\n",
      "  and should_run_async(code)\n"
     ]
    }
   ],
   "source": [
    "from sklearn.datasets import load_diabetes\n",
    "from sklearn.model_selection import train_test_split\n",
    "\n",
    "def get_dataset() -> pd.DataFrame:\n",
    "    db = load_diabetes()\n",
    "    X, y = db.data, db.target\n",
    "    return train_test_split(X, y)"
   ]
  },
  {
   "cell_type": "code",
   "execution_count": 28,
   "id": "possible-brain",
   "metadata": {
    "scrolled": true
   },
   "outputs": [
    {
     "data": {
      "text/plain": [
       "((331, 10), (111, 10))"
      ]
     },
     "execution_count": 28,
     "metadata": {},
     "output_type": "execute_result"
    }
   ],
   "source": [
    "X_train, X_test, y_train, y_test = get_dataset()\n",
    "X_train.shape, X_test.shape"
   ]
  },
  {
   "cell_type": "markdown",
   "id": "amazing-doubt",
   "metadata": {},
   "source": [
    "## Train model"
   ]
  },
  {
   "cell_type": "code",
   "execution_count": 29,
   "id": "stuck-defendant",
   "metadata": {},
   "outputs": [],
   "source": [
    "\n",
    "from sklearn.metrics import mean_squared_error, mean_absolute_error, r2_score\n",
    "\n",
    "def evaluate_model(model, X_test, y_test):\n",
    "    y_pred = model.predict(X_test)\n",
    "    \n",
    "    rmse = np.sqrt(mean_squared_error(y_test, y_pred))\n",
    "    mae = mean_absolute_error(y_test, y_pred)\n",
    "    r2 = r2_score(y_test, y_pred)\n",
    "    print(f'RMSE = {rmse:.2f}, MAE = {mae:.2f}, R2 = {r2:.2f}')\n",
    "    return rmse, mae, r2\n",
    "\n",
    "def train_model(X_train, X_test, y_train, y_test: pd.DataFrame, model_class, **model_kwargs) -> int:\n",
    "    model = model_class(random_state=42, **model_kwargs)\n",
    "    model.fit(X_train, y_train)\n",
    "    evaluate_model(model, X_test, y_test)"
   ]
  },
  {
   "cell_type": "code",
   "execution_count": 30,
   "id": "naughty-prospect",
   "metadata": {},
   "outputs": [],
   "source": [
    "from sklearn.linear_model import ElasticNet\n",
    "from sklearn.ensemble import RandomForestRegressor\n",
    "\n",
    "model_dict_list = [\n",
    "    {'model_class' : ElasticNet, 'model_kwargs': {'alpha': 0.01, 'l1_ratio': 0.75}},\n",
    "    {'model_class' : RandomForestRegressor, 'model_kwargs': {'n_estimators': 100, 'max_depth': 6, 'max_features': 3}}\n",
    "]"
   ]
  },
  {
   "cell_type": "markdown",
   "id": "funky-heather",
   "metadata": {},
   "source": [
    "# Mlflow"
   ]
  },
  {
   "cell_type": "code",
   "execution_count": 31,
   "id": "rubber-degree",
   "metadata": {},
   "outputs": [],
   "source": [
    "import mlflow\n",
    "\n",
    "mlflow_backend_store_sqlite_db_uri = 'sqlite:///mlflow.db'\n",
    "mlflow.set_tracking_uri(mlflow_backend_store_sqlite_db_uri)"
   ]
  },
  {
   "cell_type": "code",
   "execution_count": 34,
   "id": "powerful-debut",
   "metadata": {},
   "outputs": [
    {
     "name": "stderr",
     "output_type": "stream",
     "text": [
      "/Users/alaa.bakhti/miniconda3/envs/dsp/lib/python3.7/site-packages/ipykernel/ipkernel.py:283: DeprecationWarning: `should_run_async` will not call `transform_cell` automatically in the future. Please pass the result to `transformed_cell` argument and any exception that happen during thetransform in `preprocessing_exc_tuple` in IPython 7.17 and above.\n",
      "  and should_run_async(code)\n"
     ]
    },
    {
     "name": "stdout",
     "output_type": "stream",
     "text": [
      "INFO: 'experiment 2' does not exist. Creating a new experiment\n",
      "RMSE = 58.78, MAE = 49.96, R2 = 0.44\n",
      "RMSE = 58.75, MAE = 48.96, R2 = 0.44\n"
     ]
    }
   ],
   "source": [
    "mlflow.sklearn.autolog()\n",
    "\n",
    "mlflow.set_experiment('experiment 2')\n",
    "\n",
    "for model_dict in model_dict_list:\n",
    "    with mlflow.start_run():\n",
    "        train_model(X_train, X_test, y_train, y_test, model_dict['model_class'], **model_dict['model_kwargs'])"
   ]
  },
  {
   "cell_type": "code",
   "execution_count": 36,
   "id": "composed-jumping",
   "metadata": {},
   "outputs": [
    {
     "name": "stderr",
     "output_type": "stream",
     "text": [
      "/Users/alaa.bakhti/miniconda3/envs/dsp/lib/python3.7/site-packages/ipykernel/ipkernel.py:283: DeprecationWarning: `should_run_async` will not call `transform_cell` automatically in the future. Please pass the result to `transformed_cell` argument and any exception that happen during thetransform in `preprocessing_exc_tuple` in IPython 7.17 and above.\n",
      "  and should_run_async(code)\n"
     ]
    },
    {
     "data": {
      "text/html": [
       "<div>\n",
       "<style scoped>\n",
       "    .dataframe tbody tr th:only-of-type {\n",
       "        vertical-align: middle;\n",
       "    }\n",
       "\n",
       "    .dataframe tbody tr th {\n",
       "        vertical-align: top;\n",
       "    }\n",
       "\n",
       "    .dataframe thead th {\n",
       "        text-align: right;\n",
       "    }\n",
       "</style>\n",
       "<table border=\"1\" class=\"dataframe\">\n",
       "  <thead>\n",
       "    <tr style=\"text-align: right;\">\n",
       "      <th></th>\n",
       "      <th>run_id</th>\n",
       "      <th>experiment_id</th>\n",
       "      <th>status</th>\n",
       "      <th>artifact_uri</th>\n",
       "      <th>start_time</th>\n",
       "      <th>end_time</th>\n",
       "      <th>metrics.training_rmse</th>\n",
       "      <th>metrics.training_mse</th>\n",
       "      <th>metrics.training_mae</th>\n",
       "      <th>metrics.training_score</th>\n",
       "      <th>...</th>\n",
       "      <th>params.random_state</th>\n",
       "      <th>params.min_samples_split</th>\n",
       "      <th>params.max_samples</th>\n",
       "      <th>params.verbose</th>\n",
       "      <th>tags.mlflow.source.type</th>\n",
       "      <th>tags.estimator_class</th>\n",
       "      <th>tags.estimator_name</th>\n",
       "      <th>tags.mlflow.source.name</th>\n",
       "      <th>tags.mlflow.log-model.history</th>\n",
       "      <th>tags.mlflow.user</th>\n",
       "    </tr>\n",
       "  </thead>\n",
       "  <tbody>\n",
       "    <tr>\n",
       "      <th>0</th>\n",
       "      <td>67cf7cf4c4a34b618c566b0d951bf094</td>\n",
       "      <td>2</td>\n",
       "      <td>FINISHED</td>\n",
       "      <td>./mlruns/2/67cf7cf4c4a34b618c566b0d951bf094/ar...</td>\n",
       "      <td>2021-05-12 23:54:31.977000+00:00</td>\n",
       "      <td>2021-05-12 23:54:32.474000+00:00</td>\n",
       "      <td>35.647433</td>\n",
       "      <td>1270.739478</td>\n",
       "      <td>29.775595</td>\n",
       "      <td>0.78143</td>\n",
       "      <td>...</td>\n",
       "      <td>42</td>\n",
       "      <td>2</td>\n",
       "      <td>None</td>\n",
       "      <td>0</td>\n",
       "      <td>LOCAL</td>\n",
       "      <td>sklearn.ensemble._forest.RandomForestRegressor</td>\n",
       "      <td>RandomForestRegressor</td>\n",
       "      <td>/Users/alaa.bakhti/miniconda3/envs/dsp/lib/pyt...</td>\n",
       "      <td>[{\"run_id\": \"67cf7cf4c4a34b618c566b0d951bf094\"...</td>\n",
       "      <td>alaa.bakhti</td>\n",
       "    </tr>\n",
       "  </tbody>\n",
       "</table>\n",
       "<p>1 rows × 35 columns</p>\n",
       "</div>"
      ],
      "text/plain": [
       "                             run_id experiment_id    status  \\\n",
       "0  67cf7cf4c4a34b618c566b0d951bf094             2  FINISHED   \n",
       "\n",
       "                                        artifact_uri  \\\n",
       "0  ./mlruns/2/67cf7cf4c4a34b618c566b0d951bf094/ar...   \n",
       "\n",
       "                        start_time                         end_time  \\\n",
       "0 2021-05-12 23:54:31.977000+00:00 2021-05-12 23:54:32.474000+00:00   \n",
       "\n",
       "   metrics.training_rmse  metrics.training_mse  metrics.training_mae  \\\n",
       "0              35.647433           1270.739478             29.775595   \n",
       "\n",
       "   metrics.training_score  ...  params.random_state params.min_samples_split  \\\n",
       "0                 0.78143  ...                   42                        2   \n",
       "\n",
       "  params.max_samples params.verbose tags.mlflow.source.type  \\\n",
       "0               None              0                   LOCAL   \n",
       "\n",
       "                             tags.estimator_class    tags.estimator_name  \\\n",
       "0  sklearn.ensemble._forest.RandomForestRegressor  RandomForestRegressor   \n",
       "\n",
       "                             tags.mlflow.source.name  \\\n",
       "0  /Users/alaa.bakhti/miniconda3/envs/dsp/lib/pyt...   \n",
       "\n",
       "                       tags.mlflow.log-model.history tags.mlflow.user  \n",
       "0  [{\"run_id\": \"67cf7cf4c4a34b618c566b0d951bf094\"...      alaa.bakhti  \n",
       "\n",
       "[1 rows x 35 columns]"
      ]
     },
     "execution_count": 36,
     "metadata": {},
     "output_type": "execute_result"
    }
   ],
   "source": [
    "mlflow.search_runs(filter_string=\"metric.training_mae < 30\")"
   ]
  }
 ],
 "metadata": {
  "kernelspec": {
   "display_name": "Python 3",
   "language": "python",
   "name": "python3"
  },
  "language_info": {
   "codemirror_mode": {
    "name": "ipython",
    "version": 3
   },
   "file_extension": ".py",
   "mimetype": "text/x-python",
   "name": "python",
   "nbconvert_exporter": "python",
   "pygments_lexer": "ipython3",
   "version": "3.7.9"
  },
  "toc": {
   "base_numbering": 1,
   "nav_menu": {},
   "number_sections": true,
   "sideBar": true,
   "skip_h1_title": false,
   "title_cell": "Table of Contents",
   "title_sidebar": "Contents",
   "toc_cell": false,
   "toc_position": {},
   "toc_section_display": true,
   "toc_window_display": false
  }
 },
 "nbformat": 4,
 "nbformat_minor": 5
}
