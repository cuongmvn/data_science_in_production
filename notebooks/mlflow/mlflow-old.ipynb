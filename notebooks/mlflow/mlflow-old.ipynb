{
 "cells": [
  {
   "cell_type": "markdown",
   "id": "packed-honor",
   "metadata": {},
   "source": [
    "# TODO\n",
    "\n",
    "**MUST**\n",
    "- [X] Lecture article SAAI sur mllflow\n",
    "- [ ] Log model - mlflow.sklearn.log_model(lr, \"model\")\n",
    "- [ ] save the model - mlflow.sklearn.save_model(lr, modelpath)\n",
    "- [ ] log artefact - mlflow.log_artifact(\"ElasticNet-paths.png\")\n",
    "- [ ] load MLflow model from run and use it in inference\n",
    "    - https://www.mlflow.org/docs/latest/tutorials-and-examples/tutorial.html\n",
    "\n",
    "**NICE**\n",
    "- [ ] Use [mlflow autologging](https://www.mlflow.org/docs/latest/python_api/mlflow.html#mlflow.autolog) and compare it with the from scratch way\n",
    "- [ ] Customize the experiment saving\n",
    "    - run name, ..\n",
    "- [ ] Advaanced https://towardsdatascience.com/5-tips-for-mlflow-experiment-tracking-c70ae117b03f\n",
    "- [ ] Use encapsulation of runs\n",
    "- [ ] Check the databricks tutorial and see what can be added"
   ]
  },
  {
   "cell_type": "markdown",
   "id": "returning-repair",
   "metadata": {},
   "source": [
    "mlflow ui --backend-store-uri path/to/mlruns/folder"
   ]
  },
  {
   "cell_type": "code",
   "execution_count": 2,
   "id": "vanilla-phenomenon",
   "metadata": {},
   "outputs": [],
   "source": [
    "import numpy as np\n",
    "import pandas as pd\n",
    "import mlflow\n",
    "import mlflow.sklearn"
   ]
  },
  {
   "cell_type": "code",
   "execution_count": 3,
   "id": "fifth-hazard",
   "metadata": {},
   "outputs": [
    {
     "name": "stderr",
     "output_type": "stream",
     "text": [
      "/Users/alaa.bakhti/miniconda3/envs/dsp/lib/python3.7/site-packages/ipykernel/ipkernel.py:283: DeprecationWarning: `should_run_async` will not call `transform_cell` automatically in the future. Please pass the result to `transformed_cell` argument and any exception that happen during thetransform in `preprocessing_exc_tuple` in IPython 7.17 and above.\n",
      "  and should_run_async(code)\n"
     ]
    }
   ],
   "source": [
    "import warnings\n",
    "warnings.filterwarnings('ignore')"
   ]
  },
  {
   "cell_type": "markdown",
   "id": "discrete-filing",
   "metadata": {},
   "source": [
    "# Read and setup dataset"
   ]
  },
  {
   "cell_type": "markdown",
   "id": "molecular-stability",
   "metadata": {},
   "source": [
    "- The diabetes dataset: https://scikit-learn.org/stable/datasets/toy_dataset.html#diabetes-dataset\n",
    "- https://scikit-learn.org/stable/modules/generated/sklearn.datasets.load_diabetes.html"
   ]
  },
  {
   "cell_type": "code",
   "execution_count": 7,
   "id": "indoor-article",
   "metadata": {},
   "outputs": [],
   "source": [
    "from sklearn import datasets\n",
    "from sklearn.model_selection import train_test_split\n",
    "\n",
    "def get_dataset() -> pd.DataFrame:\n",
    "    diabetes = datasets.load_diabetes()\n",
    "    X, y = diabetes.data, diabetes.target\n",
    "    Y = np.array([y]).transpose()\n",
    "    d = np.concatenate((X, Y), axis=1)\n",
    "    cols = ['age', 'sex', 'bmi', 'bp', 's1', 's2', 's3', 's4', 's5', 's6', 'progression']\n",
    "    data = pd.DataFrame(d, columns=cols)\n",
    "    return data\n",
    "\n",
    "def split_data_in_train_and_test_sets(data: pd.DataFrame):\n",
    "    target_column = 'progression'\n",
    "    train, test = train_test_split(data)\n",
    "    X_train, y_train = train.drop([target_column], axis=1), train[[target_column]]\n",
    "    X_test, y_test = test.drop([target_column], axis=1), test[[target_column]]\n",
    "    return X_train, X_test, y_train, y_test\n",
    "    \n",
    "data = get_dataset()\n",
    "X_train, X_test, y_train, y_test = split_data_in_train_and_test_sets(data)"
   ]
  },
  {
   "cell_type": "code",
   "execution_count": 8,
   "id": "little-uzbekistan",
   "metadata": {},
   "outputs": [
    {
     "data": {
      "text/html": [
       "<div>\n",
       "<style scoped>\n",
       "    .dataframe tbody tr th:only-of-type {\n",
       "        vertical-align: middle;\n",
       "    }\n",
       "\n",
       "    .dataframe tbody tr th {\n",
       "        vertical-align: top;\n",
       "    }\n",
       "\n",
       "    .dataframe thead th {\n",
       "        text-align: right;\n",
       "    }\n",
       "</style>\n",
       "<table border=\"1\" class=\"dataframe\">\n",
       "  <thead>\n",
       "    <tr style=\"text-align: right;\">\n",
       "      <th></th>\n",
       "      <th>age</th>\n",
       "      <th>sex</th>\n",
       "      <th>bmi</th>\n",
       "      <th>bp</th>\n",
       "      <th>s1</th>\n",
       "      <th>s2</th>\n",
       "      <th>s3</th>\n",
       "      <th>s4</th>\n",
       "      <th>s5</th>\n",
       "      <th>s6</th>\n",
       "      <th>progression</th>\n",
       "    </tr>\n",
       "  </thead>\n",
       "  <tbody>\n",
       "    <tr>\n",
       "      <th>0</th>\n",
       "      <td>0.038076</td>\n",
       "      <td>0.050680</td>\n",
       "      <td>0.061696</td>\n",
       "      <td>0.021872</td>\n",
       "      <td>-0.044223</td>\n",
       "      <td>-0.034821</td>\n",
       "      <td>-0.043401</td>\n",
       "      <td>-0.002592</td>\n",
       "      <td>0.019908</td>\n",
       "      <td>-0.017646</td>\n",
       "      <td>151.0</td>\n",
       "    </tr>\n",
       "    <tr>\n",
       "      <th>1</th>\n",
       "      <td>-0.001882</td>\n",
       "      <td>-0.044642</td>\n",
       "      <td>-0.051474</td>\n",
       "      <td>-0.026328</td>\n",
       "      <td>-0.008449</td>\n",
       "      <td>-0.019163</td>\n",
       "      <td>0.074412</td>\n",
       "      <td>-0.039493</td>\n",
       "      <td>-0.068330</td>\n",
       "      <td>-0.092204</td>\n",
       "      <td>75.0</td>\n",
       "    </tr>\n",
       "    <tr>\n",
       "      <th>2</th>\n",
       "      <td>0.085299</td>\n",
       "      <td>0.050680</td>\n",
       "      <td>0.044451</td>\n",
       "      <td>-0.005671</td>\n",
       "      <td>-0.045599</td>\n",
       "      <td>-0.034194</td>\n",
       "      <td>-0.032356</td>\n",
       "      <td>-0.002592</td>\n",
       "      <td>0.002864</td>\n",
       "      <td>-0.025930</td>\n",
       "      <td>141.0</td>\n",
       "    </tr>\n",
       "    <tr>\n",
       "      <th>3</th>\n",
       "      <td>-0.089063</td>\n",
       "      <td>-0.044642</td>\n",
       "      <td>-0.011595</td>\n",
       "      <td>-0.036656</td>\n",
       "      <td>0.012191</td>\n",
       "      <td>0.024991</td>\n",
       "      <td>-0.036038</td>\n",
       "      <td>0.034309</td>\n",
       "      <td>0.022692</td>\n",
       "      <td>-0.009362</td>\n",
       "      <td>206.0</td>\n",
       "    </tr>\n",
       "    <tr>\n",
       "      <th>4</th>\n",
       "      <td>0.005383</td>\n",
       "      <td>-0.044642</td>\n",
       "      <td>-0.036385</td>\n",
       "      <td>0.021872</td>\n",
       "      <td>0.003935</td>\n",
       "      <td>0.015596</td>\n",
       "      <td>0.008142</td>\n",
       "      <td>-0.002592</td>\n",
       "      <td>-0.031991</td>\n",
       "      <td>-0.046641</td>\n",
       "      <td>135.0</td>\n",
       "    </tr>\n",
       "  </tbody>\n",
       "</table>\n",
       "</div>"
      ],
      "text/plain": [
       "        age       sex       bmi        bp        s1        s2        s3  \\\n",
       "0  0.038076  0.050680  0.061696  0.021872 -0.044223 -0.034821 -0.043401   \n",
       "1 -0.001882 -0.044642 -0.051474 -0.026328 -0.008449 -0.019163  0.074412   \n",
       "2  0.085299  0.050680  0.044451 -0.005671 -0.045599 -0.034194 -0.032356   \n",
       "3 -0.089063 -0.044642 -0.011595 -0.036656  0.012191  0.024991 -0.036038   \n",
       "4  0.005383 -0.044642 -0.036385  0.021872  0.003935  0.015596  0.008142   \n",
       "\n",
       "         s4        s5        s6  progression  \n",
       "0 -0.002592  0.019908 -0.017646        151.0  \n",
       "1 -0.039493 -0.068330 -0.092204         75.0  \n",
       "2 -0.002592  0.002864 -0.025930        141.0  \n",
       "3  0.034309  0.022692 -0.009362        206.0  \n",
       "4 -0.002592 -0.031991 -0.046641        135.0  "
      ]
     },
     "execution_count": 8,
     "metadata": {},
     "output_type": "execute_result"
    }
   ],
   "source": [
    "data.head()"
   ]
  },
  {
   "cell_type": "markdown",
   "id": "greenhouse-mayor",
   "metadata": {},
   "source": [
    "# Modeling"
   ]
  },
  {
   "cell_type": "code",
   "execution_count": 11,
   "id": "active-moscow",
   "metadata": {},
   "outputs": [],
   "source": [
    "from sklearn.linear_model import ElasticNet\n",
    "from sklearn.metrics import mean_squared_error, mean_absolute_error, r2_score\n",
    "\n",
    "def evaluate_model(model, X_test, y_test):\n",
    "    y_pred = model.predict(X_test)\n",
    "    \n",
    "    rmse = np.sqrt(mean_squared_error(y_test, y_pred))\n",
    "    mae = mean_absolute_error(y_test, y_pred)\n",
    "    r2 = r2_score(y_test, y_pred)\n",
    "    print(f'RMSE = {rmse:.2f}, MAE = {mae:.2f}, R2 = {r2:.2f}')\n",
    "    return rmse, mae, r2\n",
    "\n",
    "def train_model(X_train, X_test, y_train, y_test: pd.DataFrame, alpha: float, l1_ratio: float) -> int:\n",
    "    model = ElasticNet(alpha=alpha, l1_ratio=l1_ratio, random_state=42)\n",
    "    model.fit(X_train, y_train)        \n",
    "    print(f'Elasticnet model (alpha={alpha:.2f}, l1_ratio={l1_ratio:.2f}): ', end='')\n",
    "    evaluate_model(model, X_test, y_test)"
   ]
  },
  {
   "cell_type": "code",
   "execution_count": 12,
   "id": "saving-banana",
   "metadata": {
    "scrolled": true
   },
   "outputs": [
    {
     "name": "stdout",
     "output_type": "stream",
     "text": [
      "Elasticnet model (alpha=0.01, l1_ratio=0.75): RMSE = 59.32, MAE = 50.51, R2 = 0.40\n"
     ]
    }
   ],
   "source": [
    "train_model(X_train, X_test, y_train, y_test, 0.01, 0.75)"
   ]
  },
  {
   "cell_type": "markdown",
   "id": "covered-signature",
   "metadata": {},
   "source": [
    "# Other"
   ]
  },
  {
   "cell_type": "markdown",
   "id": "serial-jaguar",
   "metadata": {},
   "source": [
    "- Setup mlflow tracking directory"
   ]
  },
  {
   "cell_type": "code",
   "execution_count": 50,
   "id": "speaking-child",
   "metadata": {},
   "outputs": [
    {
     "data": {
      "text/plain": [
       "'sqlite://///Users/alaa.bakhti/Documents/EPITA/data-science-in-production/tp/data_science_in_production/output/mlruns.db'"
      ]
     },
     "execution_count": 50,
     "metadata": {},
     "output_type": "execute_result"
    }
   ],
   "source": [
    "from pathlib import Path\n",
    "\n",
    "#Path('/Users/alaa.bakhti/Documents/EPITA/data-science-in-production/tp/data_science_in_production/'\n",
    "PROJECT_DIR = Path('.').resolve().parents[0].absolute()\n",
    "DB_PATH = PROJECT_DIR / 'output' / 'mlruns.db'\n",
    "MLFLOW_TRACKING_URI = f'sqlite:////{DB_PATH}'\n",
    "\n",
    "mlflow.set_tracking_uri(MLFLOW_TRACKING_URI)\n",
    "mlflow.get_tracking_uri()"
   ]
  },
  {
   "cell_type": "code",
   "execution_count": 51,
   "id": "comic-cabin",
   "metadata": {
    "scrolled": true
   },
   "outputs": [],
   "source": [
    "from sklearn.metrics import mean_squared_error, mean_absolute_error, r2_score\n",
    "\n",
    "def evaluate_model(model, X_test, y_test):\n",
    "    y_pred = model.predict(X_test)\n",
    "    \n",
    "    rmse = np.sqrt(mean_squared_error(y_test, y_pred))\n",
    "    mae = mean_absolute_error(y_test, y_pred)\n",
    "    r2 = r2_score(y_test, y_pred)\n",
    "    \n",
    "    mlflow.log_metric('rmse', rmse)\n",
    "    mlflow.log_metric('r2', r2)\n",
    "    mlflow.log_metric('mae', mae)\n",
    "    \n",
    "    print(f'RMSE = {rmse:.2f}, MAE = {mae:.2f}, R2 = {r2:.2f}')\n",
    "    return rmse, mae, r2"
   ]
  },
  {
   "cell_type": "code",
   "execution_count": 84,
   "id": "clinical-patrick",
   "metadata": {
    "scrolled": false
   },
   "outputs": [],
   "source": [
    "from sklearn.linear_model import ElasticNet\n",
    "\n",
    "def train_diabetes(alpha: float, l1_ratio: float, run_id: int) -> int:\n",
    "    # TODO : add return type : check sklearn base model https://scikit-learn.org/stable/modules/classes.html\n",
    "    # Start an MLflow run; the \"with\" keyword ensures we'll close the run even if this cell crashes\n",
    "    with mlflow.start_run():\n",
    "        model = ElasticNet(alpha=alpha, l1_ratio=l1_ratio, random_state=42)\n",
    "        model.fit(X_train, y_train)\n",
    "        mlflow.sklearn.log_model(model, 'model')\n",
    "        model_uri = f'../output/models/model-{alpha:.2f}-{l1_ratio:.2f}'\n",
    "        mlflow.sklearn.save_model(model, model_uri)\n",
    "\n",
    "\n",
    "        mlflow.log_param('alpha', alpha)\n",
    "        mlflow.log_param('l1_ratio', l1_ratio)\n",
    "        \n",
    "        print(f'Elasticnet model (alpha={alpha:.2f}, l1_ratio={l1_ratio:.2f}): ', end='')\n",
    "        evaluate_model(model, X_test, y_test)"
   ]
  },
  {
   "cell_type": "code",
   "execution_count": 87,
   "id": "colored-processor",
   "metadata": {},
   "outputs": [],
   "source": [
    "rm -r ../output mlruns &&  mkdir ../output"
   ]
  },
  {
   "cell_type": "code",
   "execution_count": 88,
   "id": "bridal-competition",
   "metadata": {
    "collapsed": true
   },
   "outputs": [
    {
     "name": "stderr",
     "output_type": "stream",
     "text": [
      "2021/04/24 08:13:03 INFO mlflow.store.db.utils: Creating initial MLflow database tables...\n",
      "2021/04/24 08:13:03 INFO mlflow.store.db.utils: Updating database tables\n",
      "INFO  [alembic.runtime.migration] Context impl SQLiteImpl.\n",
      "INFO  [alembic.runtime.migration] Will assume non-transactional DDL.\n",
      "INFO  [alembic.runtime.migration] Running upgrade  -> 451aebb31d03, add metric step\n",
      "INFO  [alembic.runtime.migration] Running upgrade 451aebb31d03 -> 90e64c465722, migrate user column to tags\n",
      "INFO  [alembic.runtime.migration] Running upgrade 90e64c465722 -> 181f10493468, allow nulls for metric values\n",
      "INFO  [alembic.runtime.migration] Running upgrade 181f10493468 -> df50e92ffc5e, Add Experiment Tags Table\n",
      "INFO  [alembic.runtime.migration] Running upgrade df50e92ffc5e -> 7ac759974ad8, Update run tags with larger limit\n",
      "INFO  [alembic.runtime.migration] Running upgrade 7ac759974ad8 -> 89d4b8295536, create latest metrics table\n",
      "INFO  [89d4b8295536_create_latest_metrics_table_py] Migration complete!\n",
      "INFO  [alembic.runtime.migration] Running upgrade 89d4b8295536 -> 2b4d017a5e9b, add model registry tables to db\n",
      "INFO  [2b4d017a5e9b_add_model_registry_tables_to_db_py] Adding registered_models and model_versions tables to database.\n",
      "INFO  [2b4d017a5e9b_add_model_registry_tables_to_db_py] Migration complete!\n",
      "INFO  [alembic.runtime.migration] Running upgrade 2b4d017a5e9b -> cfd24bdc0731, Update run status constraint with killed\n",
      "INFO  [alembic.runtime.migration] Running upgrade cfd24bdc0731 -> 0a8213491aaa, drop_duplicate_killed_constraint\n",
      "WARNI [0a8213491aaa_drop_duplicate_killed_constraint_py] Failed to drop check constraint. Dropping check constraints may not be supported by your SQL database. Exception content: No support for ALTER of constraints in SQLite dialectPlease refer to the batch mode feature which allows for SQLite migrations using a copy-and-move strategy.\n",
      "INFO  [alembic.runtime.migration] Running upgrade 0a8213491aaa -> 728d730b5ebd, add registered model tags table\n",
      "INFO  [alembic.runtime.migration] Running upgrade 728d730b5ebd -> 27a6a02d2cf1, add model version tags table\n",
      "INFO  [alembic.runtime.migration] Running upgrade 27a6a02d2cf1 -> 84291f40a231, add run_link to model_version\n",
      "INFO  [alembic.runtime.migration] Context impl SQLiteImpl.\n",
      "INFO  [alembic.runtime.migration] Will assume non-transactional DDL.\n",
      "INFO  [alembic.runtime.migration] Context impl SQLiteImpl.\n",
      "INFO  [alembic.runtime.migration] Will assume non-transactional DDL.\n",
      "INFO  [alembic.runtime.migration] Context impl SQLiteImpl.\n",
      "INFO  [alembic.runtime.migration] Will assume non-transactional DDL.\n",
      "INFO  [alembic.runtime.migration] Context impl SQLiteImpl.\n",
      "INFO  [alembic.runtime.migration] Will assume non-transactional DDL.\n",
      "INFO  [alembic.runtime.migration] Context impl SQLiteImpl.\n",
      "INFO  [alembic.runtime.migration] Will assume non-transactional DDL.\n",
      "INFO  [alembic.runtime.migration] Context impl SQLiteImpl.\n",
      "INFO  [alembic.runtime.migration] Will assume non-transactional DDL.\n",
      "INFO  [alembic.runtime.migration] Context impl SQLiteImpl.\n",
      "INFO  [alembic.runtime.migration] Will assume non-transactional DDL.\n",
      "INFO  [alembic.runtime.migration] Context impl SQLiteImpl.\n",
      "INFO  [alembic.runtime.migration] Will assume non-transactional DDL.\n",
      "INFO  [alembic.runtime.migration] Context impl SQLiteImpl.\n",
      "INFO  [alembic.runtime.migration] Will assume non-transactional DDL.\n"
     ]
    },
    {
     "name": "stdout",
     "output_type": "stream",
     "text": [
      "Elasticnet model (alpha=0.00, l1_ratio=0.00): RMSE = 55.30, MAE = 44.92, R2 = 0.41\n"
     ]
    },
    {
     "name": "stderr",
     "output_type": "stream",
     "text": [
      "INFO  [alembic.runtime.migration] Context impl SQLiteImpl.\n",
      "INFO  [alembic.runtime.migration] Will assume non-transactional DDL.\n",
      "INFO  [alembic.runtime.migration] Context impl SQLiteImpl.\n",
      "INFO  [alembic.runtime.migration] Will assume non-transactional DDL.\n",
      "INFO  [alembic.runtime.migration] Context impl SQLiteImpl.\n",
      "INFO  [alembic.runtime.migration] Will assume non-transactional DDL.\n",
      "INFO  [alembic.runtime.migration] Context impl SQLiteImpl.\n",
      "INFO  [alembic.runtime.migration] Will assume non-transactional DDL.\n",
      "INFO  [alembic.runtime.migration] Context impl SQLiteImpl.\n",
      "INFO  [alembic.runtime.migration] Will assume non-transactional DDL.\n",
      "INFO  [alembic.runtime.migration] Context impl SQLiteImpl.\n",
      "INFO  [alembic.runtime.migration] Will assume non-transactional DDL.\n",
      "INFO  [alembic.runtime.migration] Context impl SQLiteImpl.\n",
      "INFO  [alembic.runtime.migration] Will assume non-transactional DDL.\n",
      "INFO  [alembic.runtime.migration] Context impl SQLiteImpl.\n",
      "INFO  [alembic.runtime.migration] Will assume non-transactional DDL.\n",
      "INFO  [alembic.runtime.migration] Context impl SQLiteImpl.\n",
      "INFO  [alembic.runtime.migration] Will assume non-transactional DDL.\n"
     ]
    },
    {
     "name": "stdout",
     "output_type": "stream",
     "text": [
      "Elasticnet model (alpha=0.33, l1_ratio=0.33): RMSE = 72.36, MAE = 62.82, R2 = -0.00\n"
     ]
    },
    {
     "name": "stderr",
     "output_type": "stream",
     "text": [
      "INFO  [alembic.runtime.migration] Context impl SQLiteImpl.\n",
      "INFO  [alembic.runtime.migration] Will assume non-transactional DDL.\n",
      "INFO  [alembic.runtime.migration] Context impl SQLiteImpl.\n",
      "INFO  [alembic.runtime.migration] Will assume non-transactional DDL.\n",
      "INFO  [alembic.runtime.migration] Context impl SQLiteImpl.\n",
      "INFO  [alembic.runtime.migration] Will assume non-transactional DDL.\n",
      "INFO  [alembic.runtime.migration] Context impl SQLiteImpl.\n",
      "INFO  [alembic.runtime.migration] Will assume non-transactional DDL.\n",
      "INFO  [alembic.runtime.migration] Context impl SQLiteImpl.\n",
      "INFO  [alembic.runtime.migration] Will assume non-transactional DDL.\n",
      "INFO  [alembic.runtime.migration] Context impl SQLiteImpl.\n",
      "INFO  [alembic.runtime.migration] Will assume non-transactional DDL.\n",
      "INFO  [alembic.runtime.migration] Context impl SQLiteImpl.\n",
      "INFO  [alembic.runtime.migration] Will assume non-transactional DDL.\n",
      "INFO  [alembic.runtime.migration] Context impl SQLiteImpl.\n",
      "INFO  [alembic.runtime.migration] Will assume non-transactional DDL.\n"
     ]
    },
    {
     "name": "stdout",
     "output_type": "stream",
     "text": [
      "Elasticnet model (alpha=0.67, l1_ratio=0.67): RMSE = 72.61, MAE = 63.03, R2 = -0.01\n"
     ]
    },
    {
     "name": "stderr",
     "output_type": "stream",
     "text": [
      "INFO  [alembic.runtime.migration] Context impl SQLiteImpl.\n",
      "INFO  [alembic.runtime.migration] Will assume non-transactional DDL.\n",
      "INFO  [alembic.runtime.migration] Context impl SQLiteImpl.\n",
      "INFO  [alembic.runtime.migration] Will assume non-transactional DDL.\n",
      "INFO  [alembic.runtime.migration] Context impl SQLiteImpl.\n",
      "INFO  [alembic.runtime.migration] Will assume non-transactional DDL.\n",
      "INFO  [alembic.runtime.migration] Context impl SQLiteImpl.\n",
      "INFO  [alembic.runtime.migration] Will assume non-transactional DDL.\n",
      "INFO  [alembic.runtime.migration] Context impl SQLiteImpl.\n",
      "INFO  [alembic.runtime.migration] Will assume non-transactional DDL.\n",
      "INFO  [alembic.runtime.migration] Context impl SQLiteImpl.\n",
      "INFO  [alembic.runtime.migration] Will assume non-transactional DDL.\n",
      "INFO  [alembic.runtime.migration] Context impl SQLiteImpl.\n",
      "INFO  [alembic.runtime.migration] Will assume non-transactional DDL.\n",
      "INFO  [alembic.runtime.migration] Context impl SQLiteImpl.\n",
      "INFO  [alembic.runtime.migration] Will assume non-transactional DDL.\n",
      "INFO  [alembic.runtime.migration] Context impl SQLiteImpl.\n",
      "INFO  [alembic.runtime.migration] Will assume non-transactional DDL.\n",
      "INFO  [alembic.runtime.migration] Context impl SQLiteImpl.\n",
      "INFO  [alembic.runtime.migration] Will assume non-transactional DDL.\n"
     ]
    },
    {
     "name": "stdout",
     "output_type": "stream",
     "text": [
      "Elasticnet model (alpha=1.00, l1_ratio=1.00): RMSE = 58.97, MAE = 49.75, R2 = 0.33\n"
     ]
    }
   ],
   "source": [
    "for param, run_id in zip(np.linspace(0, 1, 4), range(5)):\n",
    "    train_diabetes(alpha=param, l1_ratio=param, run_id=run_id)"
   ]
  },
  {
   "cell_type": "code",
   "execution_count": 90,
   "id": "superior-aquarium",
   "metadata": {},
   "outputs": [
    {
     "data": {
      "text/plain": [
       "array([155.05762926, 157.34383472, 152.81372888, 153.1123571 ,\n",
       "       153.18120197, 154.13763815, 155.94451321, 157.4327528 ,\n",
       "       155.62259753, 156.41163823, 154.75512524, 153.18202123,\n",
       "       154.87590175, 154.11210213, 155.13613465, 154.94131108,\n",
       "       152.13951671, 154.42871339, 155.99762989, 152.50811365,\n",
       "       153.20623017, 157.37329331, 155.1202496 , 155.11646794,\n",
       "       154.52373079, 154.1274801 , 156.074097  , 156.1550807 ,\n",
       "       157.14322665, 155.55653707, 156.16165413, 152.89074172,\n",
       "       153.74055819, 155.55204306, 157.95311036, 152.63416916,\n",
       "       154.199903  , 153.22013503, 154.47125656, 153.90867564,\n",
       "       153.07155911, 156.76003434, 154.59279844, 156.42952971,\n",
       "       155.38355027, 156.97568187, 153.89963709, 157.88747119,\n",
       "       152.20331616, 157.1351395 , 152.61610314, 156.2026441 ,\n",
       "       152.2445898 , 154.14161542, 154.237096  , 156.07533126,\n",
       "       156.26718387, 152.4305429 , 153.09203456, 153.57544511,\n",
       "       156.58078829, 155.90507913, 156.39321464, 156.78616978,\n",
       "       156.37519281, 154.86906646, 155.93934714, 153.12705634,\n",
       "       155.07109913, 154.5888853 , 155.92349298, 157.38233313,\n",
       "       154.94760725, 153.69086826, 155.70840411, 154.63120111,\n",
       "       158.04292259, 155.53998519, 155.41735772, 154.00682102,\n",
       "       154.27569534, 151.8663418 , 153.91954515, 154.71985023,\n",
       "       157.31663059, 155.40735212, 153.45075097, 154.52521056,\n",
       "       155.96330062, 155.7151213 , 154.20189048, 157.08975821,\n",
       "       153.32766105, 156.52549925, 154.83296415, 156.6306066 ,\n",
       "       154.40280396, 154.03766469, 155.20666336, 154.07582062,\n",
       "       156.72407514, 155.19497845, 156.32373066, 153.1244533 ,\n",
       "       155.86592165, 155.49496809, 152.99213752, 154.75986775,\n",
       "       153.11126567, 154.38286854, 154.52552014])"
      ]
     },
     "execution_count": 90,
     "metadata": {},
     "output_type": "execute_result"
    }
   ],
   "source": [
    "model_path = '../output/models/model-0.33-0.33'\n",
    "model = mlflow.sklearn.load_model(model_uri=model_path)\n",
    "model.predict(X_test)"
   ]
  },
  {
   "cell_type": "markdown",
   "id": "explicit-secretariat",
   "metadata": {},
   "source": [
    "## Notes\n",
    "### mlflow.sklearn.log_model\n",
    "**Links**\n",
    "- [MLflow models](https://www.mlflow.org/docs/latest/models.html)\n",
    "- [Packaging & serving the mode tutorial](https://www.mlflow.org/docs/latest/tutorials-and-examples/tutorial.html)\n",
    "- [Log model documentation](https://www.mlflow.org/docs/latest/python_api/mlflow.sklearn.html#mlflow.sklearn.log_model)\n",
    "\n",
    "**Notes**\n",
    "- MLmodel: is a metadata file that tells MLflow how to load the model.\n",
    "- model.pkl: is a serialized version of the trained model."
   ]
  },
  {
   "cell_type": "code",
   "execution_count": 16,
   "id": "emotional-shopper",
   "metadata": {},
   "outputs": [],
   "source": [
    "\n",
    "\n",
    "\n",
    "from sklearn.linear_model import lasso_path, enet_path\n",
    "\n",
    "# train_diabetes\n",
    "#   Uses the sklearn Diabetes dataset to predict diabetes progression using ElasticNet\n",
    "#       The predicted \"progression\" column is a quantitative measure of disease progression one year after baseline\n",
    "#       http://scikit-learn.org/stable/modules/generated/sklearn.datasets.load_diabetes.html\n",
    "def f(data, in_alpha, in_l1_ratio):\n",
    "    with mlflow.start_run():\n",
    "\n",
    "        # Log mlflow attributes for mlflow UI\n",
    "        mlflow.sklearn.log_model(lr, \"model\")\n",
    "        modelpath = \"../output/mlflow/model-%f-%f\" % (alpha, l1_ratio)\n",
    "        mlflow.sklearn.save_model(lr, modelpath)\n",
    "                \n",
    "        # Log artifacts (output files)\n",
    "        mlflow.log_artifact(\"ElasticNet-paths.png\")"
   ]
  },
  {
   "cell_type": "code",
   "execution_count": 67,
   "id": "communist-extreme",
   "metadata": {
    "scrolled": false
   },
   "outputs": [
    {
     "name": "stderr",
     "output_type": "stream",
     "text": [
      "/Users/alaa.bakhti/miniconda3/envs/dsp/lib/python3.7/site-packages/ipykernel/ipkernel.py:283: DeprecationWarning: `should_run_async` will not call `transform_cell` automatically in the future. Please pass the result to `transformed_cell` argument and any exception that happen during thetransform in `preprocessing_exc_tuple` in IPython 7.17 and above.\n",
      "  and should_run_async(code)\n"
     ]
    },
    {
     "name": "stdout",
     "output_type": "stream",
     "text": [
      "Elasticnet model (alpha=0.010000, l1_ratio=0.010000):\n",
      "  RMSE: 62.489686689390275\n",
      "  MAE: 53.578585510041506\n",
      "  R2: 0.2501994650614182\n",
      "Computing regularization path using ElasticNet.\n"
     ]
    }
   ],
   "source": [
    "from sklearn.metrics import mean_squared_error, mean_absolute_error, r2_score\n",
    "\n",
    "from sklearn.linear_model import ElasticNet\n",
    "from sklearn.linear_model import lasso_path, enet_path\n",
    "\n",
    "# train_diabetes\n",
    "#   Uses the sklearn Diabetes dataset to predict diabetes progression using ElasticNet\n",
    "#       The predicted \"progression\" column is a quantitative measure of disease progression one year after baseline\n",
    "#       http://scikit-learn.org/stable/modules/generated/sklearn.datasets.load_diabetes.html\n",
    "def train_diabetes(data, in_alpha, in_l1_ratio):\n",
    "    def eval_metrics(actual, pred):\n",
    "        rmse = np.sqrt(mean_squared_error(actual, pred))\n",
    "        mae = mean_absolute_error(actual, pred)\n",
    "        r2 = r2_score(actual, pred)\n",
    "        return rmse, mae, r2\n",
    " \n",
    "\n",
    "   \n",
    "    # Split the data into training and test sets. (0.75, 0.25) split.\n",
    "    train, test = train_test_split(data)\n",
    "   \n",
    "    # The predicted column is \"progression\" which is a quantitative measure of disease progression\n",
    "    # one year after baseline\n",
    "    train_x = train.drop([\"progression\"], axis=1)\n",
    "    test_x = test.drop([\"progression\"], axis=1)\n",
    "    train_y = train[[\"progression\"]]\n",
    "    test_y = test[[\"progression\"]]\n",
    "   \n",
    "    if float(in_alpha) is None:\n",
    "        alpha = 0.05\n",
    "    else:\n",
    "        alpha = float(in_alpha)\n",
    "      \n",
    "    if float(in_l1_ratio) is None:\n",
    "        l1_ratio = 0.05\n",
    "    else:\n",
    "        l1_ratio = float(in_l1_ratio)\n",
    "      \n",
    "    # Start an MLflow run; the \"with\" keyword ensures we'll close the run even if this cell crashes\n",
    "    with mlflow.start_run():\n",
    "        lr = ElasticNet(alpha=alpha, l1_ratio=l1_ratio, random_state=42)\n",
    "        lr.fit(train_x, train_y)\n",
    "     \n",
    "        predicted_qualities = lr.predict(test_x)\n",
    "     \n",
    "        (rmse, mae, r2) = eval_metrics(test_y, predicted_qualities)\n",
    "     \n",
    "        # Print out ElasticNet model metrics\n",
    "        print(\"Elasticnet model (alpha=%f, l1_ratio=%f):\" % (alpha, l1_ratio))\n",
    "        print(\"  RMSE: %s\" % rmse)\n",
    "        print(\"  MAE: %s\" % mae)\n",
    "        print(\"  R2: %s\" % r2)\n",
    "     \n",
    "        # Log mlflow attributes for mlflow UI\n",
    "        mlflow.log_param(\"alpha\", alpha)\n",
    "        mlflow.log_param(\"l1_ratio\", l1_ratio)\n",
    "        mlflow.log_metric(\"rmse\", rmse)\n",
    "        mlflow.log_metric(\"r2\", r2)\n",
    "        mlflow.log_metric(\"mae\", mae)\n",
    "        mlflow.sklearn.log_model(lr, \"model\")\n",
    "        modelpath = \"../output/mlflow/model-%f-%f\" % (alpha, l1_ratio)\n",
    "        mlflow.sklearn.save_model(lr, modelpath)\n",
    "        \n",
    "        # Call plot_enet_descent_path\n",
    "        image = plot_enet_descent_path(X, y, l1_ratio)\n",
    "        \n",
    "        # Log artifacts (output files)\n",
    "        mlflow.log_artifact(\"ElasticNet-paths.png\")\n",
    "        \n",
    "train_diabetes(data, 0.01, 0.01)"
   ]
  },
  {
   "cell_type": "code",
   "execution_count": 70,
   "id": "automated-correspondence",
   "metadata": {},
   "outputs": [
    {
     "name": "stdout",
     "output_type": "stream",
     "text": [
      "Elasticnet model (alpha=0.010000, l1_ratio=0.750000):\n",
      "  RMSE: 56.210678873069156\n",
      "  MAE: 46.70928025348322\n",
      "  R2: 0.421451889289591\n",
      "Computing regularization path using ElasticNet.\n"
     ]
    }
   ],
   "source": [
    "train_diabetes(data, 0.01, 0.75)"
   ]
  },
  {
   "cell_type": "code",
   "execution_count": 71,
   "id": "numeric-behavior",
   "metadata": {},
   "outputs": [
    {
     "name": "stdout",
     "output_type": "stream",
     "text": [
      "Elasticnet model (alpha=0.010000, l1_ratio=0.500000):\n",
      "  RMSE: 59.13740610249833\n",
      "  MAE: 50.548714527938465\n",
      "  R2: 0.4119956543115493\n",
      "Computing regularization path using ElasticNet.\n"
     ]
    },
    {
     "name": "stderr",
     "output_type": "stream",
     "text": [
      "/Users/alaa.bakhti/miniconda3/envs/dsp/lib/python3.7/site-packages/ipykernel/ipkernel.py:283: DeprecationWarning: `should_run_async` will not call `transform_cell` automatically in the future. Please pass the result to `transformed_cell` argument and any exception that happen during thetransform in `preprocessing_exc_tuple` in IPython 7.17 and above.\n",
      "  and should_run_async(code)\n"
     ]
    }
   ],
   "source": [
    "train_diabetes(data, 0.01, .5)\n"
   ]
  },
  {
   "cell_type": "code",
   "execution_count": null,
   "id": "hazardous-complexity",
   "metadata": {},
   "outputs": [],
   "source": []
  }
 ],
 "metadata": {
  "kernelspec": {
   "display_name": "Python 3",
   "language": "python",
   "name": "python3"
  },
  "language_info": {
   "codemirror_mode": {
    "name": "ipython",
    "version": 3
   },
   "file_extension": ".py",
   "mimetype": "text/x-python",
   "name": "python",
   "nbconvert_exporter": "python",
   "pygments_lexer": "ipython3",
   "version": "3.7.9"
  },
  "toc": {
   "base_numbering": 1,
   "nav_menu": {},
   "number_sections": true,
   "sideBar": true,
   "skip_h1_title": false,
   "title_cell": "Table of Contents",
   "title_sidebar": "Contents",
   "toc_cell": false,
   "toc_position": {},
   "toc_section_display": true,
   "toc_window_display": false
  }
 },
 "nbformat": 4,
 "nbformat_minor": 5
}
