{
 "cells": [
  {
   "cell_type": "code",
   "execution_count": 1,
   "id": "saved-sheep",
   "metadata": {},
   "outputs": [],
   "source": [
    "import mlflow"
   ]
  },
  {
   "cell_type": "code",
   "execution_count": 7,
   "id": "apart-pierre",
   "metadata": {},
   "outputs": [
    {
     "name": "stdout",
     "output_type": "stream",
     "text": [
      "divers.ipynb        mlflow-dummy.ipynb  \u001b[1m\u001b[36mmodeling\u001b[m\u001b[m            \u001b[1m\u001b[36mpipeline-extraction\u001b[m\u001b[m\r\n"
     ]
    }
   ],
   "source": [
    "!ls"
   ]
  },
  {
   "cell_type": "code",
   "execution_count": 11,
   "id": "patient-sussex",
   "metadata": {},
   "outputs": [],
   "source": [
    "with mlflow.start_run():\n",
    "    mlflow.log_param('name', 'random_nme')\n",
    "    mlflow.log_metric('mse', 7.8)"
   ]
  },
  {
   "cell_type": "code",
   "execution_count": 12,
   "id": "attended-registration",
   "metadata": {},
   "outputs": [
    {
     "name": "stdout",
     "output_type": "stream",
     "text": [
      "\u001b[01;34mmlruns\u001b[00m\r\n",
      "└── \u001b[01;34m0\u001b[00m\r\n",
      "    ├── \u001b[01;34m1fbde8874c554b26a4b613f97bc13269\u001b[00m\r\n",
      "    │   ├── \u001b[01;34martifacts\u001b[00m\r\n",
      "    │   ├── meta.yaml\r\n",
      "    │   ├── \u001b[01;34mmetrics\u001b[00m\r\n",
      "    │   │   └── mse\r\n",
      "    │   ├── \u001b[01;34mparams\u001b[00m\r\n",
      "    │   │   └── name\r\n",
      "    │   └── \u001b[01;34mtags\u001b[00m\r\n",
      "    │       ├── mlflow.source.name\r\n",
      "    │       ├── mlflow.source.type\r\n",
      "    │       └── mlflow.user\r\n",
      "    ├── \u001b[01;34mef2f442922c14fea84822c642256eab9\u001b[00m\r\n",
      "    │   ├── \u001b[01;34martifacts\u001b[00m\r\n",
      "    │   ├── meta.yaml\r\n",
      "    │   ├── \u001b[01;34mmetrics\u001b[00m\r\n",
      "    │   │   └── mse\r\n",
      "    │   ├── \u001b[01;34mparams\u001b[00m\r\n",
      "    │   │   └── name\r\n",
      "    │   └── \u001b[01;34mtags\u001b[00m\r\n",
      "    │       ├── mlflow.source.name\r\n",
      "    │       ├── mlflow.source.type\r\n",
      "    │       └── mlflow.user\r\n",
      "    └── meta.yaml\r\n",
      "\r\n",
      "11 directories, 13 files\r\n"
     ]
    }
   ],
   "source": [
    "!tree mlruns"
   ]
  },
  {
   "cell_type": "code",
   "execution_count": 14,
   "id": "turkish-screen",
   "metadata": {},
   "outputs": [
    {
     "name": "stdout",
     "output_type": "stream",
     "text": [
      "divers.ipynb        \u001b[1m\u001b[36mmlruns\u001b[m\u001b[m              \u001b[1m\u001b[36mpipeline-extraction\u001b[m\u001b[m\r\n",
      "mlflow-dummy.ipynb  \u001b[1m\u001b[36mmodeling\u001b[m\u001b[m\r\n"
     ]
    }
   ],
   "source": [
    "!ls"
   ]
  },
  {
   "cell_type": "code",
   "execution_count": 19,
   "id": "finished-lending",
   "metadata": {},
   "outputs": [],
   "source": [
    "# mlflow ui --backend-store-uri sqlite:///mlflow.db"
   ]
  },
  {
   "cell_type": "code",
   "execution_count": 13,
   "id": "twelve-dating",
   "metadata": {},
   "outputs": [],
   "source": [
    "mlflow.set_tracking_uri('sqlite:///mlflow.db')"
   ]
  },
  {
   "cell_type": "code",
   "execution_count": 15,
   "id": "rubber-journalism",
   "metadata": {},
   "outputs": [
    {
     "name": "stderr",
     "output_type": "stream",
     "text": [
      "2021/06/19 16:39:23 INFO mlflow.store.db.utils: Creating initial MLflow database tables...\n",
      "2021/06/19 16:39:23 INFO mlflow.store.db.utils: Updating database tables\n",
      "INFO  [alembic.runtime.migration] Context impl SQLiteImpl.\n",
      "INFO  [alembic.runtime.migration] Will assume non-transactional DDL.\n",
      "INFO  [alembic.runtime.migration] Running upgrade  -> 451aebb31d03, add metric step\n",
      "/Users/alaa.bakhti/miniconda3/envs/dsp/lib/python3.7/site-packages/alembic/operations/batch.py:185: SADeprecationWarning: The Column.copy() method is deprecated and will be removed in a future release. (deprecated since: 1.4)\n",
      "  c_copy = c.copy(schema=schema)\n",
      "/Users/alaa.bakhti/miniconda3/envs/dsp/lib/python3.7/site-packages/alembic/operations/batch.py:289: SADeprecationWarning: The ColumnCollectionConstraint.copy() method is deprecated and will be removed in a future release. (deprecated since: 1.4)\n",
      "  const_copy = const.copy(schema=schema, target_table=new_table)\n",
      "/Users/alaa.bakhti/miniconda3/envs/dsp/lib/python3.7/site-packages/alembic/operations/batch.py:287: SADeprecationWarning: The ForeignKeyConstraint.copy() method is deprecated and will be removed in a future release. (deprecated since: 1.4)\n",
      "  const_copy = const.copy(schema=schema)\n",
      "INFO  [alembic.runtime.migration] Running upgrade 451aebb31d03 -> 90e64c465722, migrate user column to tags\n",
      "INFO  [alembic.runtime.migration] Running upgrade 90e64c465722 -> 181f10493468, allow nulls for metric values\n",
      "INFO  [alembic.runtime.migration] Running upgrade 181f10493468 -> df50e92ffc5e, Add Experiment Tags Table\n",
      "INFO  [alembic.runtime.migration] Running upgrade df50e92ffc5e -> 7ac759974ad8, Update run tags with larger limit\n",
      "INFO  [alembic.runtime.migration] Running upgrade 7ac759974ad8 -> 89d4b8295536, create latest metrics table\n",
      "INFO  [89d4b8295536_create_latest_metrics_table_py] Migration complete!\n",
      "INFO  [alembic.runtime.migration] Running upgrade 89d4b8295536 -> 2b4d017a5e9b, add model registry tables to db\n",
      "INFO  [2b4d017a5e9b_add_model_registry_tables_to_db_py] Adding registered_models and model_versions tables to database.\n",
      "INFO  [2b4d017a5e9b_add_model_registry_tables_to_db_py] Migration complete!\n",
      "INFO  [alembic.runtime.migration] Running upgrade 2b4d017a5e9b -> cfd24bdc0731, Update run status constraint with killed\n",
      "/Users/alaa.bakhti/miniconda3/envs/dsp/lib/python3.7/site-packages/alembic/operations/batch.py:289: SADeprecationWarning: The CheckConstraint.copy() method is deprecated and will be removed in a future release. (deprecated since: 1.4)\n",
      "  const_copy = const.copy(schema=schema, target_table=new_table)\n",
      "INFO  [alembic.runtime.migration] Running upgrade cfd24bdc0731 -> 0a8213491aaa, drop_duplicate_killed_constraint\n",
      "WARNI [0a8213491aaa_drop_duplicate_killed_constraint_py] Failed to drop check constraint. Dropping check constraints may not be supported by your SQL database. Exception content: No support for ALTER of constraints in SQLite dialectPlease refer to the batch mode feature which allows for SQLite migrations using a copy-and-move strategy.\n",
      "INFO  [alembic.runtime.migration] Running upgrade 0a8213491aaa -> 728d730b5ebd, add registered model tags table\n",
      "INFO  [alembic.runtime.migration] Running upgrade 728d730b5ebd -> 27a6a02d2cf1, add model version tags table\n",
      "INFO  [alembic.runtime.migration] Running upgrade 27a6a02d2cf1 -> 84291f40a231, add run_link to model_version\n",
      "INFO  [alembic.runtime.migration] Context impl SQLiteImpl.\n",
      "INFO  [alembic.runtime.migration] Will assume non-transactional DDL.\n",
      "INFO  [alembic.runtime.migration] Context impl SQLiteImpl.\n",
      "INFO  [alembic.runtime.migration] Will assume non-transactional DDL.\n",
      "INFO  [alembic.runtime.migration] Context impl SQLiteImpl.\n",
      "INFO  [alembic.runtime.migration] Will assume non-transactional DDL.\n",
      "INFO  [alembic.runtime.migration] Context impl SQLiteImpl.\n",
      "INFO  [alembic.runtime.migration] Will assume non-transactional DDL.\n"
     ]
    }
   ],
   "source": [
    "with mlflow.start_run():\n",
    "    mlflow.log_param('name', 'random_nme')\n",
    "    mlflow.log_metric('mse', 7.8)"
   ]
  },
  {
   "cell_type": "code",
   "execution_count": 16,
   "id": "urban-ground",
   "metadata": {},
   "outputs": [
    {
     "name": "stdout",
     "output_type": "stream",
     "text": [
      "divers.ipynb        mlflow.db           \u001b[1m\u001b[36mmodeling\u001b[m\u001b[m\r\n",
      "mlflow-dummy.ipynb  \u001b[1m\u001b[36mmlruns\u001b[m\u001b[m              \u001b[1m\u001b[36mpipeline-extraction\u001b[m\u001b[m\r\n"
     ]
    }
   ],
   "source": [
    "!ls"
   ]
  },
  {
   "cell_type": "code",
   "execution_count": 18,
   "id": "involved-interaction",
   "metadata": {},
   "outputs": [
    {
     "name": "stderr",
     "output_type": "stream",
     "text": [
      "INFO  [alembic.runtime.migration] Context impl SQLiteImpl.\n",
      "INFO  [alembic.runtime.migration] Will assume non-transactional DDL.\n",
      "INFO  [alembic.runtime.migration] Context impl SQLiteImpl.\n",
      "INFO  [alembic.runtime.migration] Will assume non-transactional DDL.\n",
      "INFO  [alembic.runtime.migration] Context impl SQLiteImpl.\n",
      "INFO  [alembic.runtime.migration] Will assume non-transactional DDL.\n",
      "INFO  [alembic.runtime.migration] Context impl SQLiteImpl.\n",
      "INFO  [alembic.runtime.migration] Will assume non-transactional DDL.\n"
     ]
    }
   ],
   "source": [
    "with mlflow.start_run():\n",
    "    mlflow.log_param('name', 'random_nme')\n",
    "    mlflow.log_metric('mse', 7.8)"
   ]
  },
  {
   "cell_type": "code",
   "execution_count": 20,
   "id": "promising-consolidation",
   "metadata": {},
   "outputs": [],
   "source": [
    "#mlflow server --backend-store-uri sqlite:////tmp/mlflow.db --default-artifact-root /tmp/mlruns"
   ]
  },
  {
   "cell_type": "markdown",
   "id": "numeric-twenty",
   "metadata": {},
   "source": [
    "## Discuss\n",
    "- with + end_run\n",
    "- set_experiment\n",
    "- ..."
   ]
  },
  {
   "cell_type": "markdown",
   "id": "incredible-milwaukee",
   "metadata": {},
   "source": [
    "## mlflow end run"
   ]
  },
  {
   "cell_type": "code",
   "execution_count": 21,
   "id": "fourth-conservation",
   "metadata": {},
   "outputs": [
    {
     "name": "stderr",
     "output_type": "stream",
     "text": [
      "INFO  [alembic.runtime.migration] Context impl SQLiteImpl.\n",
      "INFO  [alembic.runtime.migration] Will assume non-transactional DDL.\n",
      "INFO  [alembic.runtime.migration] Context impl SQLiteImpl.\n",
      "INFO  [alembic.runtime.migration] Will assume non-transactional DDL.\n"
     ]
    }
   ],
   "source": [
    "mlflow.log_param('name', 'random_nme')"
   ]
  },
  {
   "cell_type": "code",
   "execution_count": 22,
   "id": "complicated-coupon",
   "metadata": {},
   "outputs": [
    {
     "name": "stderr",
     "output_type": "stream",
     "text": [
      "INFO  [alembic.runtime.migration] Context impl SQLiteImpl.\n",
      "INFO  [alembic.runtime.migration] Will assume non-transactional DDL.\n"
     ]
    }
   ],
   "source": [
    "mlflow.log_metric('mse', 7.8)"
   ]
  },
  {
   "cell_type": "code",
   "execution_count": 23,
   "id": "upset-relaxation",
   "metadata": {},
   "outputs": [
    {
     "ename": "Exception",
     "evalue": "Run with UUID def4dbd09bb84f18bf40138cbccdd067 is already active. To start a new run, first end the current run with mlflow.end_run(). To start a nested run, call start_run with nested=True",
     "output_type": "error",
     "traceback": [
      "\u001b[0;31m---------------------------------------------------------------------------\u001b[0m",
      "\u001b[0;31mException\u001b[0m                                 Traceback (most recent call last)",
      "\u001b[0;32m<ipython-input-23-f3dd4f5b5497>\u001b[0m in \u001b[0;36m<module>\u001b[0;34m\u001b[0m\n\u001b[0;32m----> 1\u001b[0;31m \u001b[0;32mwith\u001b[0m \u001b[0mmlflow\u001b[0m\u001b[0;34m.\u001b[0m\u001b[0mstart_run\u001b[0m\u001b[0;34m(\u001b[0m\u001b[0;34m)\u001b[0m\u001b[0;34m:\u001b[0m\u001b[0;34m\u001b[0m\u001b[0;34m\u001b[0m\u001b[0m\n\u001b[0m\u001b[1;32m      2\u001b[0m     \u001b[0mmlflow\u001b[0m\u001b[0;34m.\u001b[0m\u001b[0mlog_param\u001b[0m\u001b[0;34m(\u001b[0m\u001b[0;34m'name'\u001b[0m\u001b[0;34m,\u001b[0m \u001b[0;34m'random_nme'\u001b[0m\u001b[0;34m)\u001b[0m\u001b[0;34m\u001b[0m\u001b[0;34m\u001b[0m\u001b[0m\n\u001b[1;32m      3\u001b[0m     \u001b[0mmlflow\u001b[0m\u001b[0;34m.\u001b[0m\u001b[0mlog_metric\u001b[0m\u001b[0;34m(\u001b[0m\u001b[0;34m'mse'\u001b[0m\u001b[0;34m,\u001b[0m \u001b[0;36m7.8\u001b[0m\u001b[0;34m)\u001b[0m\u001b[0;34m\u001b[0m\u001b[0;34m\u001b[0m\u001b[0m\n",
      "\u001b[0;32m~/miniconda3/envs/dsp/lib/python3.7/site-packages/mlflow/tracking/fluent.py\u001b[0m in \u001b[0;36mstart_run\u001b[0;34m(run_id, experiment_id, run_name, nested)\u001b[0m\n\u001b[1;32m    169\u001b[0m                 \u001b[0;34m+\u001b[0m \u001b[0;34m\"current run with mlflow.end_run(). To start a nested \"\u001b[0m\u001b[0;34m\u001b[0m\u001b[0;34m\u001b[0m\u001b[0m\n\u001b[1;32m    170\u001b[0m                 \u001b[0;34m+\u001b[0m \u001b[0;34m\"run, call start_run with nested=True\"\u001b[0m\u001b[0;34m\u001b[0m\u001b[0;34m\u001b[0m\u001b[0m\n\u001b[0;32m--> 171\u001b[0;31m             ).format(_active_run_stack[0].info.run_id)\n\u001b[0m\u001b[1;32m    172\u001b[0m         )\n\u001b[1;32m    173\u001b[0m     \u001b[0;32mif\u001b[0m \u001b[0mrun_id\u001b[0m\u001b[0;34m:\u001b[0m\u001b[0;34m\u001b[0m\u001b[0;34m\u001b[0m\u001b[0m\n",
      "\u001b[0;31mException\u001b[0m: Run with UUID def4dbd09bb84f18bf40138cbccdd067 is already active. To start a new run, first end the current run with mlflow.end_run(). To start a nested run, call start_run with nested=True"
     ]
    }
   ],
   "source": [
    "with mlflow.start_run():\n",
    "    mlflow.log_param('name', 'random_nme')\n",
    "    mlflow.log_metric('mse', 7.8)"
   ]
  },
  {
   "cell_type": "code",
   "execution_count": 24,
   "id": "precious-nerve",
   "metadata": {},
   "outputs": [
    {
     "name": "stderr",
     "output_type": "stream",
     "text": [
      "INFO  [alembic.runtime.migration] Context impl SQLiteImpl.\n",
      "INFO  [alembic.runtime.migration] Will assume non-transactional DDL.\n"
     ]
    }
   ],
   "source": [
    "mlflow.end_run()"
   ]
  },
  {
   "cell_type": "code",
   "execution_count": 25,
   "id": "offensive-texas",
   "metadata": {},
   "outputs": [
    {
     "name": "stderr",
     "output_type": "stream",
     "text": [
      "INFO  [alembic.runtime.migration] Context impl SQLiteImpl.\n",
      "INFO  [alembic.runtime.migration] Will assume non-transactional DDL.\n",
      "INFO  [alembic.runtime.migration] Context impl SQLiteImpl.\n",
      "INFO  [alembic.runtime.migration] Will assume non-transactional DDL.\n",
      "INFO  [alembic.runtime.migration] Context impl SQLiteImpl.\n",
      "INFO  [alembic.runtime.migration] Will assume non-transactional DDL.\n",
      "INFO  [alembic.runtime.migration] Context impl SQLiteImpl.\n",
      "INFO  [alembic.runtime.migration] Will assume non-transactional DDL.\n"
     ]
    }
   ],
   "source": [
    "with mlflow.start_run():\n",
    "    mlflow.log_param('name', 'random_nme')\n",
    "    mlflow.log_metric('mse', 7.8)"
   ]
  },
  {
   "cell_type": "code",
   "execution_count": 26,
   "id": "correct-morris",
   "metadata": {},
   "outputs": [
    {
     "name": "stderr",
     "output_type": "stream",
     "text": [
      "INFO  [alembic.runtime.migration] Context impl SQLiteImpl.\n",
      "INFO  [alembic.runtime.migration] Will assume non-transactional DDL.\n",
      "INFO  [alembic.runtime.migration] Context impl SQLiteImpl.\n",
      "INFO  [alembic.runtime.migration] Will assume non-transactional DDL.\n",
      "INFO  [alembic.runtime.migration] Context impl SQLiteImpl.\n",
      "INFO  [alembic.runtime.migration] Will assume non-transactional DDL.\n"
     ]
    }
   ],
   "source": [
    "mlflow.log_param('name', 'random_nme')\n",
    "mlflow.end_run()"
   ]
  },
  {
   "cell_type": "code",
   "execution_count": 27,
   "id": "durable-netscape",
   "metadata": {},
   "outputs": [
    {
     "name": "stderr",
     "output_type": "stream",
     "text": [
      "INFO  [alembic.runtime.migration] Context impl SQLiteImpl.\n",
      "INFO  [alembic.runtime.migration] Will assume non-transactional DDL.\n",
      "INFO  [alembic.runtime.migration] Context impl SQLiteImpl.\n",
      "INFO  [alembic.runtime.migration] Will assume non-transactional DDL.\n",
      "INFO  [alembic.runtime.migration] Context impl SQLiteImpl.\n",
      "INFO  [alembic.runtime.migration] Will assume non-transactional DDL.\n",
      "INFO  [alembic.runtime.migration] Context impl SQLiteImpl.\n",
      "INFO  [alembic.runtime.migration] Will assume non-transactional DDL.\n"
     ]
    }
   ],
   "source": [
    "with mlflow.start_run():\n",
    "    mlflow.log_param('name', 'random_nme')\n",
    "    mlflow.log_metric('mse', 7.8)"
   ]
  },
  {
   "cell_type": "code",
   "execution_count": null,
   "id": "early-patch",
   "metadata": {},
   "outputs": [],
   "source": [
    "with mlflow.start_run():\n",
    "    train_model()\n",
    "    evaluat_model()"
   ]
  },
  {
   "cell_type": "markdown",
   "id": "accompanied-permission",
   "metadata": {},
   "source": [
    "## mlflow experiment"
   ]
  },
  {
   "cell_type": "code",
   "execution_count": 28,
   "id": "miniature-beverage",
   "metadata": {},
   "outputs": [
    {
     "name": "stderr",
     "output_type": "stream",
     "text": [
      "/Users/alaa.bakhti/miniconda3/envs/dsp/lib/python3.7/site-packages/ipykernel/ipkernel.py:283: DeprecationWarning: `should_run_async` will not call `transform_cell` automatically in the future. Please pass the result to `transformed_cell` argument and any exception that happen during thetransform in `preprocessing_exc_tuple` in IPython 7.17 and above.\n",
      "  and should_run_async(code)\n",
      "INFO  [alembic.runtime.migration] Context impl SQLiteImpl.\n",
      "INFO  [alembic.runtime.migration] Will assume non-transactional DDL.\n"
     ]
    },
    {
     "name": "stdout",
     "output_type": "stream",
     "text": [
      "INFO: 'house-prices' does not exist. Creating a new experiment\n"
     ]
    }
   ],
   "source": [
    "mlflow.set_experiment('house-prices')"
   ]
  },
  {
   "cell_type": "code",
   "execution_count": 30,
   "id": "passive-australian",
   "metadata": {
    "collapsed": true
   },
   "outputs": [
    {
     "name": "stderr",
     "output_type": "stream",
     "text": [
      "INFO  [alembic.runtime.migration] Context impl SQLiteImpl.\n",
      "INFO  [alembic.runtime.migration] Will assume non-transactional DDL.\n",
      "INFO  [alembic.runtime.migration] Context impl SQLiteImpl.\n",
      "INFO  [alembic.runtime.migration] Will assume non-transactional DDL.\n",
      "INFO  [alembic.runtime.migration] Context impl SQLiteImpl.\n",
      "INFO  [alembic.runtime.migration] Will assume non-transactional DDL.\n",
      "INFO  [alembic.runtime.migration] Context impl SQLiteImpl.\n",
      "INFO  [alembic.runtime.migration] Will assume non-transactional DDL.\n",
      "INFO  [alembic.runtime.migration] Context impl SQLiteImpl.\n",
      "INFO  [alembic.runtime.migration] Will assume non-transactional DDL.\n",
      "INFO  [alembic.runtime.migration] Context impl SQLiteImpl.\n",
      "INFO  [alembic.runtime.migration] Will assume non-transactional DDL.\n",
      "INFO  [alembic.runtime.migration] Context impl SQLiteImpl.\n",
      "INFO  [alembic.runtime.migration] Will assume non-transactional DDL.\n",
      "INFO  [alembic.runtime.migration] Context impl SQLiteImpl.\n",
      "INFO  [alembic.runtime.migration] Will assume non-transactional DDL.\n",
      "INFO  [alembic.runtime.migration] Context impl SQLiteImpl.\n",
      "INFO  [alembic.runtime.migration] Will assume non-transactional DDL.\n",
      "INFO  [alembic.runtime.migration] Context impl SQLiteImpl.\n",
      "INFO  [alembic.runtime.migration] Will assume non-transactional DDL.\n",
      "INFO  [alembic.runtime.migration] Context impl SQLiteImpl.\n",
      "INFO  [alembic.runtime.migration] Will assume non-transactional DDL.\n",
      "INFO  [alembic.runtime.migration] Context impl SQLiteImpl.\n",
      "INFO  [alembic.runtime.migration] Will assume non-transactional DDL.\n",
      "INFO  [alembic.runtime.migration] Context impl SQLiteImpl.\n",
      "INFO  [alembic.runtime.migration] Will assume non-transactional DDL.\n",
      "INFO  [alembic.runtime.migration] Context impl SQLiteImpl.\n",
      "INFO  [alembic.runtime.migration] Will assume non-transactional DDL.\n",
      "INFO  [alembic.runtime.migration] Context impl SQLiteImpl.\n",
      "INFO  [alembic.runtime.migration] Will assume non-transactional DDL.\n",
      "INFO  [alembic.runtime.migration] Context impl SQLiteImpl.\n",
      "INFO  [alembic.runtime.migration] Will assume non-transactional DDL.\n",
      "INFO  [alembic.runtime.migration] Context impl SQLiteImpl.\n",
      "INFO  [alembic.runtime.migration] Will assume non-transactional DDL.\n",
      "INFO  [alembic.runtime.migration] Context impl SQLiteImpl.\n",
      "INFO  [alembic.runtime.migration] Will assume non-transactional DDL.\n",
      "INFO  [alembic.runtime.migration] Context impl SQLiteImpl.\n",
      "INFO  [alembic.runtime.migration] Will assume non-transactional DDL.\n",
      "INFO  [alembic.runtime.migration] Context impl SQLiteImpl.\n",
      "INFO  [alembic.runtime.migration] Will assume non-transactional DDL.\n",
      "INFO  [alembic.runtime.migration] Context impl SQLiteImpl.\n",
      "INFO  [alembic.runtime.migration] Will assume non-transactional DDL.\n",
      "INFO  [alembic.runtime.migration] Context impl SQLiteImpl.\n",
      "INFO  [alembic.runtime.migration] Will assume non-transactional DDL.\n",
      "INFO  [alembic.runtime.migration] Context impl SQLiteImpl.\n",
      "INFO  [alembic.runtime.migration] Will assume non-transactional DDL.\n",
      "INFO  [alembic.runtime.migration] Context impl SQLiteImpl.\n",
      "INFO  [alembic.runtime.migration] Will assume non-transactional DDL.\n",
      "INFO  [alembic.runtime.migration] Context impl SQLiteImpl.\n",
      "INFO  [alembic.runtime.migration] Will assume non-transactional DDL.\n",
      "INFO  [alembic.runtime.migration] Context impl SQLiteImpl.\n",
      "INFO  [alembic.runtime.migration] Will assume non-transactional DDL.\n",
      "INFO  [alembic.runtime.migration] Context impl SQLiteImpl.\n",
      "INFO  [alembic.runtime.migration] Will assume non-transactional DDL.\n",
      "INFO  [alembic.runtime.migration] Context impl SQLiteImpl.\n",
      "INFO  [alembic.runtime.migration] Will assume non-transactional DDL.\n",
      "INFO  [alembic.runtime.migration] Context impl SQLiteImpl.\n",
      "INFO  [alembic.runtime.migration] Will assume non-transactional DDL.\n",
      "INFO  [alembic.runtime.migration] Context impl SQLiteImpl.\n",
      "INFO  [alembic.runtime.migration] Will assume non-transactional DDL.\n",
      "INFO  [alembic.runtime.migration] Context impl SQLiteImpl.\n",
      "INFO  [alembic.runtime.migration] Will assume non-transactional DDL.\n",
      "INFO  [alembic.runtime.migration] Context impl SQLiteImpl.\n",
      "INFO  [alembic.runtime.migration] Will assume non-transactional DDL.\n",
      "INFO  [alembic.runtime.migration] Context impl SQLiteImpl.\n",
      "INFO  [alembic.runtime.migration] Will assume non-transactional DDL.\n",
      "INFO  [alembic.runtime.migration] Context impl SQLiteImpl.\n",
      "INFO  [alembic.runtime.migration] Will assume non-transactional DDL.\n",
      "INFO  [alembic.runtime.migration] Context impl SQLiteImpl.\n",
      "INFO  [alembic.runtime.migration] Will assume non-transactional DDL.\n",
      "INFO  [alembic.runtime.migration] Context impl SQLiteImpl.\n",
      "INFO  [alembic.runtime.migration] Will assume non-transactional DDL.\n",
      "INFO  [alembic.runtime.migration] Context impl SQLiteImpl.\n",
      "INFO  [alembic.runtime.migration] Will assume non-transactional DDL.\n",
      "INFO  [alembic.runtime.migration] Context impl SQLiteImpl.\n",
      "INFO  [alembic.runtime.migration] Will assume non-transactional DDL.\n",
      "INFO  [alembic.runtime.migration] Context impl SQLiteImpl.\n",
      "INFO  [alembic.runtime.migration] Will assume non-transactional DDL.\n",
      "INFO  [alembic.runtime.migration] Context impl SQLiteImpl.\n",
      "INFO  [alembic.runtime.migration] Will assume non-transactional DDL.\n"
     ]
    }
   ],
   "source": [
    "for i in range(10):\n",
    "    with mlflow.start_run():\n",
    "        mlflow.log_param('name', 'random_nme')\n",
    "        mlflow.log_metric('mse', 7.8)"
   ]
  },
  {
   "cell_type": "markdown",
   "id": "faced-termination",
   "metadata": {},
   "source": [
    "## mlflow search runs"
   ]
  },
  {
   "cell_type": "code",
   "execution_count": 32,
   "id": "improved-heating",
   "metadata": {},
   "outputs": [
    {
     "name": "stderr",
     "output_type": "stream",
     "text": [
      "/Users/alaa.bakhti/miniconda3/envs/dsp/lib/python3.7/site-packages/ipykernel/ipkernel.py:283: DeprecationWarning: `should_run_async` will not call `transform_cell` automatically in the future. Please pass the result to `transformed_cell` argument and any exception that happen during thetransform in `preprocessing_exc_tuple` in IPython 7.17 and above.\n",
      "  and should_run_async(code)\n",
      "INFO  [alembic.runtime.migration] Context impl SQLiteImpl.\n",
      "INFO  [alembic.runtime.migration] Will assume non-transactional DDL.\n"
     ]
    },
    {
     "data": {
      "text/plain": [
       "'1'"
      ]
     },
     "execution_count": 32,
     "metadata": {},
     "output_type": "execute_result"
    }
   ],
   "source": [
    "experiment_id = mlflow.get_experiment_by_name('house-prices').experiment_id\n",
    "experiment_id"
   ]
  },
  {
   "cell_type": "code",
   "execution_count": 38,
   "id": "animal-trance",
   "metadata": {
    "scrolled": true
   },
   "outputs": [
    {
     "name": "stderr",
     "output_type": "stream",
     "text": [
      "/Users/alaa.bakhti/miniconda3/envs/dsp/lib/python3.7/site-packages/ipykernel/ipkernel.py:283: DeprecationWarning: `should_run_async` will not call `transform_cell` automatically in the future. Please pass the result to `transformed_cell` argument and any exception that happen during thetransform in `preprocessing_exc_tuple` in IPython 7.17 and above.\n",
      "  and should_run_async(code)\n",
      "INFO  [alembic.runtime.migration] Context impl SQLiteImpl.\n",
      "INFO  [alembic.runtime.migration] Will assume non-transactional DDL.\n"
     ]
    },
    {
     "data": {
      "text/html": [
       "<div>\n",
       "<style scoped>\n",
       "    .dataframe tbody tr th:only-of-type {\n",
       "        vertical-align: middle;\n",
       "    }\n",
       "\n",
       "    .dataframe tbody tr th {\n",
       "        vertical-align: top;\n",
       "    }\n",
       "\n",
       "    .dataframe thead th {\n",
       "        text-align: right;\n",
       "    }\n",
       "</style>\n",
       "<table border=\"1\" class=\"dataframe\">\n",
       "  <thead>\n",
       "    <tr style=\"text-align: right;\">\n",
       "      <th></th>\n",
       "      <th>run_id</th>\n",
       "      <th>experiment_id</th>\n",
       "      <th>status</th>\n",
       "      <th>artifact_uri</th>\n",
       "      <th>start_time</th>\n",
       "      <th>end_time</th>\n",
       "      <th>metrics.mse</th>\n",
       "      <th>params.name</th>\n",
       "      <th>tags.mlflow.source.type</th>\n",
       "      <th>tags.mlflow.user</th>\n",
       "      <th>tags.mlflow.source.name</th>\n",
       "    </tr>\n",
       "  </thead>\n",
       "  <tbody>\n",
       "    <tr>\n",
       "      <th>0</th>\n",
       "      <td>8f0551443f204a7cbfbe5b7cba4e515d</td>\n",
       "      <td>1</td>\n",
       "      <td>FINISHED</td>\n",
       "      <td>./mlruns/1/8f0551443f204a7cbfbe5b7cba4e515d/ar...</td>\n",
       "      <td>2021-06-19 14:56:44.589000+00:00</td>\n",
       "      <td>2021-06-19 14:56:44.723000+00:00</td>\n",
       "      <td>7.8</td>\n",
       "      <td>random_nme</td>\n",
       "      <td>LOCAL</td>\n",
       "      <td>alaa.bakhti</td>\n",
       "      <td>/Users/alaa.bakhti/miniconda3/envs/dsp/lib/pyt...</td>\n",
       "    </tr>\n",
       "    <tr>\n",
       "      <th>1</th>\n",
       "      <td>56df8aeebe7c46b4b7f14696a44df67f</td>\n",
       "      <td>1</td>\n",
       "      <td>FINISHED</td>\n",
       "      <td>./mlruns/1/56df8aeebe7c46b4b7f14696a44df67f/ar...</td>\n",
       "      <td>2021-06-19 14:56:44.417000+00:00</td>\n",
       "      <td>2021-06-19 14:56:44.543000+00:00</td>\n",
       "      <td>7.8</td>\n",
       "      <td>random_nme</td>\n",
       "      <td>LOCAL</td>\n",
       "      <td>alaa.bakhti</td>\n",
       "      <td>/Users/alaa.bakhti/miniconda3/envs/dsp/lib/pyt...</td>\n",
       "    </tr>\n",
       "    <tr>\n",
       "      <th>2</th>\n",
       "      <td>8d873c80f04a49bab34a03b4606cce3a</td>\n",
       "      <td>1</td>\n",
       "      <td>FINISHED</td>\n",
       "      <td>./mlruns/1/8d873c80f04a49bab34a03b4606cce3a/ar...</td>\n",
       "      <td>2021-06-19 14:56:44.249000+00:00</td>\n",
       "      <td>2021-06-19 14:56:44.372000+00:00</td>\n",
       "      <td>7.8</td>\n",
       "      <td>random_nme</td>\n",
       "      <td>LOCAL</td>\n",
       "      <td>alaa.bakhti</td>\n",
       "      <td>/Users/alaa.bakhti/miniconda3/envs/dsp/lib/pyt...</td>\n",
       "    </tr>\n",
       "    <tr>\n",
       "      <th>3</th>\n",
       "      <td>1a94aa0460974803a563a956d99f5c35</td>\n",
       "      <td>1</td>\n",
       "      <td>FINISHED</td>\n",
       "      <td>./mlruns/1/1a94aa0460974803a563a956d99f5c35/ar...</td>\n",
       "      <td>2021-06-19 14:56:44.079000+00:00</td>\n",
       "      <td>2021-06-19 14:56:44.206000+00:00</td>\n",
       "      <td>7.8</td>\n",
       "      <td>random_nme</td>\n",
       "      <td>LOCAL</td>\n",
       "      <td>alaa.bakhti</td>\n",
       "      <td>/Users/alaa.bakhti/miniconda3/envs/dsp/lib/pyt...</td>\n",
       "    </tr>\n",
       "    <tr>\n",
       "      <th>4</th>\n",
       "      <td>be7895ee3d26472298551394161bde5b</td>\n",
       "      <td>1</td>\n",
       "      <td>FINISHED</td>\n",
       "      <td>./mlruns/1/be7895ee3d26472298551394161bde5b/ar...</td>\n",
       "      <td>2021-06-19 14:56:43.911000+00:00</td>\n",
       "      <td>2021-06-19 14:56:44.040000+00:00</td>\n",
       "      <td>7.8</td>\n",
       "      <td>random_nme</td>\n",
       "      <td>LOCAL</td>\n",
       "      <td>alaa.bakhti</td>\n",
       "      <td>/Users/alaa.bakhti/miniconda3/envs/dsp/lib/pyt...</td>\n",
       "    </tr>\n",
       "    <tr>\n",
       "      <th>5</th>\n",
       "      <td>24e28ad4dae648d790970ab0113f5749</td>\n",
       "      <td>1</td>\n",
       "      <td>FINISHED</td>\n",
       "      <td>./mlruns/1/24e28ad4dae648d790970ab0113f5749/ar...</td>\n",
       "      <td>2021-06-19 14:56:43.641000+00:00</td>\n",
       "      <td>2021-06-19 14:56:43.871000+00:00</td>\n",
       "      <td>7.8</td>\n",
       "      <td>random_nme</td>\n",
       "      <td>LOCAL</td>\n",
       "      <td>alaa.bakhti</td>\n",
       "      <td>/Users/alaa.bakhti/miniconda3/envs/dsp/lib/pyt...</td>\n",
       "    </tr>\n",
       "    <tr>\n",
       "      <th>6</th>\n",
       "      <td>32f93906a6ee4e36ac0475ffa95d5a57</td>\n",
       "      <td>1</td>\n",
       "      <td>FINISHED</td>\n",
       "      <td>./mlruns/1/32f93906a6ee4e36ac0475ffa95d5a57/ar...</td>\n",
       "      <td>2021-06-19 14:56:43.472000+00:00</td>\n",
       "      <td>2021-06-19 14:56:43.598000+00:00</td>\n",
       "      <td>7.8</td>\n",
       "      <td>random_nme</td>\n",
       "      <td>LOCAL</td>\n",
       "      <td>alaa.bakhti</td>\n",
       "      <td>/Users/alaa.bakhti/miniconda3/envs/dsp/lib/pyt...</td>\n",
       "    </tr>\n",
       "    <tr>\n",
       "      <th>7</th>\n",
       "      <td>0e93ae653bbc4569967351994decef88</td>\n",
       "      <td>1</td>\n",
       "      <td>FINISHED</td>\n",
       "      <td>./mlruns/1/0e93ae653bbc4569967351994decef88/ar...</td>\n",
       "      <td>2021-06-19 14:56:43.308000+00:00</td>\n",
       "      <td>2021-06-19 14:56:43.431000+00:00</td>\n",
       "      <td>7.8</td>\n",
       "      <td>random_nme</td>\n",
       "      <td>LOCAL</td>\n",
       "      <td>alaa.bakhti</td>\n",
       "      <td>/Users/alaa.bakhti/miniconda3/envs/dsp/lib/pyt...</td>\n",
       "    </tr>\n",
       "    <tr>\n",
       "      <th>8</th>\n",
       "      <td>74cecf9fb07d4cda94f70d3ab53d7c68</td>\n",
       "      <td>1</td>\n",
       "      <td>FINISHED</td>\n",
       "      <td>./mlruns/1/74cecf9fb07d4cda94f70d3ab53d7c68/ar...</td>\n",
       "      <td>2021-06-19 14:56:43.142000+00:00</td>\n",
       "      <td>2021-06-19 14:56:43.268000+00:00</td>\n",
       "      <td>7.8</td>\n",
       "      <td>random_nme</td>\n",
       "      <td>LOCAL</td>\n",
       "      <td>alaa.bakhti</td>\n",
       "      <td>/Users/alaa.bakhti/miniconda3/envs/dsp/lib/pyt...</td>\n",
       "    </tr>\n",
       "    <tr>\n",
       "      <th>9</th>\n",
       "      <td>ed8c8868b4a44071817f1680daa1d33d</td>\n",
       "      <td>1</td>\n",
       "      <td>FINISHED</td>\n",
       "      <td>./mlruns/1/ed8c8868b4a44071817f1680daa1d33d/ar...</td>\n",
       "      <td>2021-06-19 14:56:42.973000+00:00</td>\n",
       "      <td>2021-06-19 14:56:43.104000+00:00</td>\n",
       "      <td>7.8</td>\n",
       "      <td>random_nme</td>\n",
       "      <td>LOCAL</td>\n",
       "      <td>alaa.bakhti</td>\n",
       "      <td>/Users/alaa.bakhti/miniconda3/envs/dsp/lib/pyt...</td>\n",
       "    </tr>\n",
       "    <tr>\n",
       "      <th>10</th>\n",
       "      <td>037785d836e845568f8048d8e3664009</td>\n",
       "      <td>1</td>\n",
       "      <td>FINISHED</td>\n",
       "      <td>./mlruns/1/037785d836e845568f8048d8e3664009/ar...</td>\n",
       "      <td>2021-06-19 14:56:27.736000+00:00</td>\n",
       "      <td>2021-06-19 14:56:27.862000+00:00</td>\n",
       "      <td>7.8</td>\n",
       "      <td>random_nme</td>\n",
       "      <td>LOCAL</td>\n",
       "      <td>alaa.bakhti</td>\n",
       "      <td>/Users/alaa.bakhti/miniconda3/envs/dsp/lib/pyt...</td>\n",
       "    </tr>\n",
       "  </tbody>\n",
       "</table>\n",
       "</div>"
      ],
      "text/plain": [
       "                              run_id experiment_id    status  \\\n",
       "0   8f0551443f204a7cbfbe5b7cba4e515d             1  FINISHED   \n",
       "1   56df8aeebe7c46b4b7f14696a44df67f             1  FINISHED   \n",
       "2   8d873c80f04a49bab34a03b4606cce3a             1  FINISHED   \n",
       "3   1a94aa0460974803a563a956d99f5c35             1  FINISHED   \n",
       "4   be7895ee3d26472298551394161bde5b             1  FINISHED   \n",
       "5   24e28ad4dae648d790970ab0113f5749             1  FINISHED   \n",
       "6   32f93906a6ee4e36ac0475ffa95d5a57             1  FINISHED   \n",
       "7   0e93ae653bbc4569967351994decef88             1  FINISHED   \n",
       "8   74cecf9fb07d4cda94f70d3ab53d7c68             1  FINISHED   \n",
       "9   ed8c8868b4a44071817f1680daa1d33d             1  FINISHED   \n",
       "10  037785d836e845568f8048d8e3664009             1  FINISHED   \n",
       "\n",
       "                                         artifact_uri  \\\n",
       "0   ./mlruns/1/8f0551443f204a7cbfbe5b7cba4e515d/ar...   \n",
       "1   ./mlruns/1/56df8aeebe7c46b4b7f14696a44df67f/ar...   \n",
       "2   ./mlruns/1/8d873c80f04a49bab34a03b4606cce3a/ar...   \n",
       "3   ./mlruns/1/1a94aa0460974803a563a956d99f5c35/ar...   \n",
       "4   ./mlruns/1/be7895ee3d26472298551394161bde5b/ar...   \n",
       "5   ./mlruns/1/24e28ad4dae648d790970ab0113f5749/ar...   \n",
       "6   ./mlruns/1/32f93906a6ee4e36ac0475ffa95d5a57/ar...   \n",
       "7   ./mlruns/1/0e93ae653bbc4569967351994decef88/ar...   \n",
       "8   ./mlruns/1/74cecf9fb07d4cda94f70d3ab53d7c68/ar...   \n",
       "9   ./mlruns/1/ed8c8868b4a44071817f1680daa1d33d/ar...   \n",
       "10  ./mlruns/1/037785d836e845568f8048d8e3664009/ar...   \n",
       "\n",
       "                         start_time                         end_time  \\\n",
       "0  2021-06-19 14:56:44.589000+00:00 2021-06-19 14:56:44.723000+00:00   \n",
       "1  2021-06-19 14:56:44.417000+00:00 2021-06-19 14:56:44.543000+00:00   \n",
       "2  2021-06-19 14:56:44.249000+00:00 2021-06-19 14:56:44.372000+00:00   \n",
       "3  2021-06-19 14:56:44.079000+00:00 2021-06-19 14:56:44.206000+00:00   \n",
       "4  2021-06-19 14:56:43.911000+00:00 2021-06-19 14:56:44.040000+00:00   \n",
       "5  2021-06-19 14:56:43.641000+00:00 2021-06-19 14:56:43.871000+00:00   \n",
       "6  2021-06-19 14:56:43.472000+00:00 2021-06-19 14:56:43.598000+00:00   \n",
       "7  2021-06-19 14:56:43.308000+00:00 2021-06-19 14:56:43.431000+00:00   \n",
       "8  2021-06-19 14:56:43.142000+00:00 2021-06-19 14:56:43.268000+00:00   \n",
       "9  2021-06-19 14:56:42.973000+00:00 2021-06-19 14:56:43.104000+00:00   \n",
       "10 2021-06-19 14:56:27.736000+00:00 2021-06-19 14:56:27.862000+00:00   \n",
       "\n",
       "    metrics.mse params.name tags.mlflow.source.type tags.mlflow.user  \\\n",
       "0           7.8  random_nme                   LOCAL      alaa.bakhti   \n",
       "1           7.8  random_nme                   LOCAL      alaa.bakhti   \n",
       "2           7.8  random_nme                   LOCAL      alaa.bakhti   \n",
       "3           7.8  random_nme                   LOCAL      alaa.bakhti   \n",
       "4           7.8  random_nme                   LOCAL      alaa.bakhti   \n",
       "5           7.8  random_nme                   LOCAL      alaa.bakhti   \n",
       "6           7.8  random_nme                   LOCAL      alaa.bakhti   \n",
       "7           7.8  random_nme                   LOCAL      alaa.bakhti   \n",
       "8           7.8  random_nme                   LOCAL      alaa.bakhti   \n",
       "9           7.8  random_nme                   LOCAL      alaa.bakhti   \n",
       "10          7.8  random_nme                   LOCAL      alaa.bakhti   \n",
       "\n",
       "                              tags.mlflow.source.name  \n",
       "0   /Users/alaa.bakhti/miniconda3/envs/dsp/lib/pyt...  \n",
       "1   /Users/alaa.bakhti/miniconda3/envs/dsp/lib/pyt...  \n",
       "2   /Users/alaa.bakhti/miniconda3/envs/dsp/lib/pyt...  \n",
       "3   /Users/alaa.bakhti/miniconda3/envs/dsp/lib/pyt...  \n",
       "4   /Users/alaa.bakhti/miniconda3/envs/dsp/lib/pyt...  \n",
       "5   /Users/alaa.bakhti/miniconda3/envs/dsp/lib/pyt...  \n",
       "6   /Users/alaa.bakhti/miniconda3/envs/dsp/lib/pyt...  \n",
       "7   /Users/alaa.bakhti/miniconda3/envs/dsp/lib/pyt...  \n",
       "8   /Users/alaa.bakhti/miniconda3/envs/dsp/lib/pyt...  \n",
       "9   /Users/alaa.bakhti/miniconda3/envs/dsp/lib/pyt...  \n",
       "10  /Users/alaa.bakhti/miniconda3/envs/dsp/lib/pyt...  "
      ]
     },
     "execution_count": 38,
     "metadata": {},
     "output_type": "execute_result"
    }
   ],
   "source": [
    "mlflow.search_runs(experiment_id, filter_string=f\"params.name = 'random_nme' AND tags.mlflow.source.type = 'LOCAL'\")"
   ]
  },
  {
   "cell_type": "markdown",
   "id": "superior-cabin",
   "metadata": {},
   "source": [
    "## Run"
   ]
  },
  {
   "cell_type": "code",
   "execution_count": 42,
   "id": "functional-receiver",
   "metadata": {},
   "outputs": [
    {
     "name": "stderr",
     "output_type": "stream",
     "text": [
      "INFO  [alembic.runtime.migration] Context impl SQLiteImpl.\n",
      "INFO  [alembic.runtime.migration] Will assume non-transactional DDL.\n",
      "INFO  [alembic.runtime.migration] Context impl SQLiteImpl.\n",
      "INFO  [alembic.runtime.migration] Will assume non-transactional DDL.\n",
      "INFO  [alembic.runtime.migration] Context impl SQLiteImpl.\n",
      "INFO  [alembic.runtime.migration] Will assume non-transactional DDL.\n",
      "INFO  [alembic.runtime.migration] Context impl SQLiteImpl.\n",
      "INFO  [alembic.runtime.migration] Will assume non-transactional DDL.\n"
     ]
    },
    {
     "name": "stdout",
     "output_type": "stream",
     "text": [
      "<RunInfo: artifact_uri='./mlruns/1/69766200c7a449a495e5ee593c8ff52f/artifacts', end_time=None, experiment_id='1', lifecycle_stage='active', run_id='69766200c7a449a495e5ee593c8ff52f', run_uuid='69766200c7a449a495e5ee593c8ff52f', start_time=1624115036156, status='RUNNING', user_id='alaa.bakhti'>\n",
      "69766200c7a449a495e5ee593c8ff52f\n"
     ]
    }
   ],
   "source": [
    "with mlflow.start_run() as run:\n",
    "    print(run.info)\n",
    "    print(run.info.run_id)\n",
    "    mlflow.log_param('name', 'random_nme')\n",
    "    mlflow.log_metric('mse', 7.8)"
   ]
  },
  {
   "cell_type": "code",
   "execution_count": null,
   "id": "numerous-therapy",
   "metadata": {},
   "outputs": [],
   "source": []
  }
 ],
 "metadata": {
  "kernelspec": {
   "display_name": "Python 3",
   "language": "python",
   "name": "python3"
  },
  "language_info": {
   "codemirror_mode": {
    "name": "ipython",
    "version": 3
   },
   "file_extension": ".py",
   "mimetype": "text/x-python",
   "name": "python",
   "nbconvert_exporter": "python",
   "pygments_lexer": "ipython3",
   "version": "3.7.9"
  },
  "toc": {
   "base_numbering": 1,
   "nav_menu": {},
   "number_sections": true,
   "sideBar": true,
   "skip_h1_title": false,
   "title_cell": "Table of Contents",
   "title_sidebar": "Contents",
   "toc_cell": false,
   "toc_position": {},
   "toc_section_display": true,
   "toc_window_display": false
  }
 },
 "nbformat": 4,
 "nbformat_minor": 5
}
